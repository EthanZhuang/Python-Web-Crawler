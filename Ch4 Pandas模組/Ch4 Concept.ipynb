{
 "cells": [
  {
   "cell_type": "markdown",
   "metadata": {},
   "source": [
    "Objective\n",
    "===\n",
    "Pandas模組和分析CSV檔案\n",
    "\n",
    "### Resources\n",
    "\n",
    "**Selenium - HTML元素**\n",
    "\n",
    "[尋找 HTML 元素](https://chercher.tech/python/webelement-locator)\n",
    "\n",
    "### Problem "
   ]
  },
  {
   "cell_type": "markdown",
   "metadata": {},
   "source": [
    "---\n",
    "### Introduction\n",
    "Pandas 主要用來執行數據處理與分析(由 panel、dataframe、series組成)\n",
    "\n",
    "#### Ex: 查看 pandas 的版本"
   ]
  },
  {
   "cell_type": "code",
   "execution_count": 150,
   "metadata": {},
   "outputs": [
    {
     "data": {
      "text/plain": [
       "'1.0.1'"
      ]
     },
     "execution_count": 150,
     "metadata": {},
     "output_type": "execute_result"
    }
   ],
   "source": [
    "import pandas as pd\n",
    "pd.__version__"
   ]
  },
  {
   "cell_type": "markdown",
   "metadata": {},
   "source": [
    "##  Series物件\n",
    "\n",
    "一種一維陣列資料結構，但因為一個是索引(index)或稱為標籤(label)，另一個是資料。可以存放```整數```、```浮點數```、```字串```、```Python物件```(例如: 字串list、字典dist...)、```Numpy的ndarray```、```純量```。\n",
    "\n",
    "### Ex1: 使用串列 list 建立 Series 物件\n",
    "\n",
    "Pandas 是以64位元整數儲存與處理，索引(index)是從0開始計數。\n",
    "```python\n",
    "dtype: int64\n",
    "```"
   ]
  },
  {
   "cell_type": "code",
   "execution_count": 151,
   "metadata": {},
   "outputs": [
    {
     "data": {
      "text/plain": [
       "0    11\n",
       "1    22\n",
       "2    33\n",
       "3    44\n",
       "4    55\n",
       "dtype: int64"
      ]
     },
     "execution_count": 151,
     "metadata": {},
     "output_type": "execute_result"
    }
   ],
   "source": [
    "import pandas as pd\n",
    "sl = pd.Series([11, 22, 33, 44, 55])\n",
    "sl"
   ]
  },
  {
   "cell_type": "markdown",
   "metadata": {},
   "source": [
    "### Ex2: dict & Pandas.Series \n",
    "\n",
    "利用字典dict(key:value)，建立Series物件 \n",
    "```python\n",
    "# 得到的物件type\n",
    "dtype: int64\n",
    "```"
   ]
  },
  {
   "cell_type": "code",
   "execution_count": 152,
   "metadata": {},
   "outputs": [
    {
     "data": {
      "text/plain": [
       "北京    Beijing\n",
       "東京      tokyo\n",
       "dtype: object"
      ]
     },
     "execution_count": 152,
     "metadata": {},
     "output_type": "execute_result"
    }
   ],
   "source": [
    "import pandas as pd \n",
    "mydict = {'北京': 'Beijing', '東京': 'tokyo'}\n",
    "s2 = pd.Series(mydict)\n",
    "s2"
   ]
  },
  {
   "cell_type": "markdown",
   "metadata": {},
   "source": [
    "### Ex3: np.array & Pandas.Series \n",
    "\n",
    "利用np.array，建立Series物件 "
   ]
  },
  {
   "cell_type": "code",
   "execution_count": 153,
   "metadata": {},
   "outputs": [
    {
     "data": {
      "text/plain": [
       "0    0\n",
       "1    2\n",
       "2    4\n",
       "3    6\n",
       "dtype: int32"
      ]
     },
     "execution_count": 153,
     "metadata": {},
     "output_type": "execute_result"
    }
   ],
   "source": [
    "import pandas as pd \n",
    "import numpy as np\n",
    "s3 = pd.Series(np.arange(0, 7, 2))\n",
    "s3"
   ]
  },
  {
   "cell_type": "markdown",
   "metadata": {},
   "source": [
    "### Ex4: 建立自訂索引的 Series物件"
   ]
  },
  {
   "cell_type": "code",
   "execution_count": 154,
   "metadata": {
    "scrolled": true
   },
   "outputs": [
    {
     "data": {
      "text/plain": [
       "3    100\n",
       "5      5\n",
       "8    100\n",
       "dtype: int64"
      ]
     },
     "execution_count": 154,
     "metadata": {},
     "output_type": "execute_result"
    }
   ],
   "source": [
    "import pandas as pd \n",
    "\n",
    "myindex = [3, 5, 8]\n",
    "price = [100, 5, 100]\n",
    "n4 = pd.Series(price, index = myindex)\n",
    "n4"
   ]
  },
  {
   "cell_type": "code",
   "execution_count": 155,
   "metadata": {},
   "outputs": [
    {
     "data": {
      "text/plain": [
       "Orange    100\n",
       "Apple       5\n",
       "Grapes    100\n",
       "dtype: int64"
      ]
     },
     "execution_count": 155,
     "metadata": {},
     "output_type": "execute_result"
    }
   ],
   "source": [
    "import pandas as pd \n",
    "\n",
    "myindex = ['Orange', 'Apple', 'Grapes']\n",
    "price = [100, 5, 100]\n",
    "n4_1 = pd.Series(price, index = myindex)\n",
    "n4_1"
   ]
  },
  {
   "cell_type": "code",
   "execution_count": 156,
   "metadata": {},
   "outputs": [
    {
     "data": {
      "text/plain": [
       "Orange    100\n",
       "Apple       5\n",
       "Grapes    100\n",
       "dtype: int64"
      ]
     },
     "execution_count": 156,
     "metadata": {},
     "output_type": "execute_result"
    }
   ],
   "source": [
    "import pandas as pd \n",
    "\n",
    "n4_2 = pd.Series([100, 5, 100], index = ['Orange', 'Apple', 'Grapes'])\n",
    "n4_2"
   ]
  },
  {
   "cell_type": "markdown",
   "metadata": {},
   "source": [
    "### Ex5: 使用純量建立 Series物件"
   ]
  },
  {
   "cell_type": "code",
   "execution_count": 157,
   "metadata": {},
   "outputs": [
    {
     "data": {
      "text/plain": [
       "1     9\n",
       "5     9\n",
       "8     9\n",
       "6     9\n",
       "10    9\n",
       "dtype: int64"
      ]
     },
     "execution_count": 157,
     "metadata": {},
     "output_type": "execute_result"
    }
   ],
   "source": [
    "import pandas as pd \n",
    "n5 = pd.Series(9, index = [1, 5, 8, 6, 10])\n",
    "n5"
   ]
  },
  {
   "cell_type": "markdown",
   "metadata": {},
   "source": [
    "---\n",
    "## 1. 列出 Series物件索引與值\n",
    "\n",
    "```python\n",
    "# 假設物件名稱是 obj, Series物件值 \n",
    "obj.values\n",
    "# 假設物件名稱是 obj, Seires物件索引\n",
    "obj.index\n",
    "```\n",
    "\n",
    "### Ex6: 找Series index and value"
   ]
  },
  {
   "cell_type": "code",
   "execution_count": 158,
   "metadata": {},
   "outputs": [
    {
     "name": "stdout",
     "output_type": "stream",
     "text": [
      "index & dtype:  Index(['Orange', 'Apple', 'Grapes'], dtype='object')\n",
      "values:  [100   5 100]\n"
     ]
    }
   ],
   "source": [
    "import pandas as pd \n",
    "\n",
    "n6 = pd.Series([100, 5, 100], index = ['Orange', 'Apple', 'Grapes'])\n",
    "print('index & dtype: ', n6.index)\n",
    "print('values: ', n6.values)"
   ]
  },
  {
   "cell_type": "markdown",
   "metadata": {},
   "source": [
    "### Ex6: Slicing method in Series"
   ]
  },
  {
   "cell_type": "code",
   "execution_count": 180,
   "metadata": {},
   "outputs": [
    {
     "name": "stdout",
     "output_type": "stream",
     "text": [
      "\n",
      "n7:\n",
      " 0    15\n",
      "1     1\n",
      "2     2\n",
      "3     3\n",
      "4     4\n",
      "5     5\n",
      "6     6\n",
      "7     7\n",
      "dtype: int64\n",
      "\n",
      "n7[::2]:\n",
      " 0    15\n",
      "2     2\n",
      "4     4\n",
      "6     6\n",
      "dtype: int64\n",
      "\n",
      "n7[:2]\n",
      " 0    15\n",
      "1     1\n",
      "dtype: int64\n",
      "\n",
      "n7[4:]\n",
      " 4    4\n",
      "5    5\n",
      "6    6\n",
      "7    7\n",
      "dtype: int64\n",
      "\n",
      "n7[-1:]\n",
      " 7    7\n",
      "dtype: int64\n",
      "\n",
      "n7[:-1]\n",
      " 0    15\n",
      "1     1\n",
      "2     2\n",
      "3     3\n",
      "4     4\n",
      "5     5\n",
      "6     6\n",
      "dtype: int64\n"
     ]
    }
   ],
   "source": [
    "import pandas as pd \n",
    "\n",
    "n7 = pd.Series([15, 1, 2, 3, 4, 5, 6, 7])\n",
    "print('n7:\\n', n7)\n",
    "print('\\nn7[::2]:\\n', n7[:: 2])\n",
    "print('\\nn7[:2]\\n', n7[:2])\n",
    "print('\\nn7[4:]\\n', n7[4:])\n",
    "print('\\nn7[-1:]\\n', n7[-1:])\n",
    "print('\\nn7[:-1]\\n', n7[:-1])"
   ]
  },
  {
   "cell_type": "markdown",
   "metadata": {},
   "source": [
    "### Ex7: Addition method in Series"
   ]
  },
  {
   "cell_type": "code",
   "execution_count": 160,
   "metadata": {},
   "outputs": [
    {
     "data": {
      "text/plain": [
       "0    4\n",
       "1    6\n",
       "dtype: int64"
      ]
     },
     "execution_count": 160,
     "metadata": {},
     "output_type": "execute_result"
    }
   ],
   "source": [
    "import pandas as pd\n",
    "\n",
    "x = pd.Series([1, 2])\n",
    "y = pd.Series([3, 4])\n",
    "x + y"
   ]
  },
  {
   "cell_type": "markdown",
   "metadata": {},
   "source": [
    "### Ex8: Logic method in Series"
   ]
  },
  {
   "cell_type": "code",
   "execution_count": 161,
   "metadata": {},
   "outputs": [
    {
     "data": {
      "text/plain": [
       "0    False\n",
       "1    False\n",
       "2     True\n",
       "dtype: bool"
      ]
     },
     "execution_count": 161,
     "metadata": {},
     "output_type": "execute_result"
    }
   ],
   "source": [
    "import pandas as pd\n",
    "\n",
    "x = pd.Series([1, 2, 48])\n",
    "y = pd.Series([3, 4, 12])\n",
    "x > y"
   ]
  },
  {
   "cell_type": "markdown",
   "metadata": {},
   "source": [
    "### Ex8: Addition method with Same index in Series\n",
    "\n",
    "下面例子可以了解到，不同的名稱 index 相加會得到 NaN。但是如果是相同名稱的 index，**不管在 list 裡面的位置如何，都會做加減乘除。**"
   ]
  },
  {
   "cell_type": "code",
   "execution_count": 162,
   "metadata": {},
   "outputs": [
    {
     "data": {
      "text/plain": [
       "Orange     4\n",
       "Apple      6\n",
       "Grape     60\n",
       "dtype: int64"
      ]
     },
     "execution_count": 162,
     "metadata": {},
     "output_type": "execute_result"
    }
   ],
   "source": [
    "import pandas as pd \n",
    "\n",
    "fruits = ['Orange', 'Apple', 'Grape']\n",
    "x = pd.Series([1, 2, 48], index = fruits)\n",
    "y = pd.Series([3, 4, 12], index = fruits)\n",
    "x + y"
   ]
  },
  {
   "cell_type": "code",
   "execution_count": 163,
   "metadata": {},
   "outputs": [
    {
     "data": {
      "text/plain": [
       "Apple     14.0\n",
       "Banana     NaN\n",
       "Grape      NaN\n",
       "Orange     4.0\n",
       "dtype: float64"
      ]
     },
     "execution_count": 163,
     "metadata": {},
     "output_type": "execute_result"
    }
   ],
   "source": [
    "import pandas as pd \n",
    "\n",
    "fruits1 = ['Orange', 'Apple', 'Grape']\n",
    "fruits2 = ['Orange', 'Banana', 'Apple']\n",
    "x = pd.Series([1, 2, 48], index = fruits1)\n",
    "y = pd.Series([3, 4, 12], index = fruits2)\n",
    "x + y"
   ]
  },
  {
   "cell_type": "code",
   "execution_count": 164,
   "metadata": {},
   "outputs": [
    {
     "name": "stdout",
     "output_type": "stream",
     "text": [
      "2\n",
      "\n",
      "\n",
      "Apple     2\n",
      "Orange    1\n",
      "dtype: int64\n",
      "\n",
      "\n",
      "Apple      2\n",
      "Orange     1\n",
      "Grape     48\n",
      "dtype: int64\n"
     ]
    }
   ],
   "source": [
    "import pandas as pd\n",
    "\n",
    "fruits = ['Orange', 'Apple', 'Grape']\n",
    "x = pd.Series([1, 2, 48], index = fruits)\n",
    "print(x['Apple'])\n",
    "print('\\n')\n",
    "print(x[['Apple', 'Orange']])\n",
    "\n",
    "print('\\n')\n",
    "print(x[['Apple', 'Orange', 'Grape']])"
   ]
  },
  {
   "cell_type": "code",
   "execution_count": 165,
   "metadata": {},
   "outputs": [
    {
     "name": "stdout",
     "output_type": "stream",
     "text": [
      "Orange     12\n",
      "Apple      14\n",
      "Grape     106\n",
      "dtype: int64\n",
      "Orange     0.841471\n",
      "Apple      1.818595\n",
      "Grape    -36.876224\n",
      "dtype: float64\n"
     ]
    }
   ],
   "source": [
    "import pandas as pd\n",
    "import numpy as np\n",
    "\n",
    "fruits = ['Orange', 'Apple', 'Grape']\n",
    "x = pd.Series([1, 2, 48], index = fruits)\n",
    "\n",
    "print(x * 2 + 10)\n",
    "print(x * np.sin(x))"
   ]
  },
  {
   "cell_type": "markdown",
   "metadata": {},
   "source": [
    "---\n",
    "##  DataFrame \n",
    "一種二維陣列資料結構，邏輯上相似於 Excel的工作表。可以存放```整數```、```浮點數```、```字串```、```Python物件```(例如: 字串list、字典dist...)、```Numpy的ndarray```、```純量```、...。"
   ]
  },
  {
   "cell_type": "markdown",
   "metadata": {},
   "source": [
    "### 利用Series 建立 DataFrame \n",
    "### EX1: concat() method to imerge the data\n",
    "\n",
    "建立\"北京\"、\"香港\"、\"新加坡\" 2020-2022 3月的平均溫度，成為3個Series物件"
   ]
  },
  {
   "cell_type": "code",
   "execution_count": 166,
   "metadata": {},
   "outputs": [
    {
     "name": "stdout",
     "output_type": "stream",
     "text": [
      "<class 'pandas.core.series.Series'>\n",
      "2020    20\n",
      "2021    15\n",
      "2022    19\n",
      "2023    18\n",
      "2020    17\n",
      "2021    21\n",
      "2022    23\n",
      "2023    19\n",
      "2020    25\n",
      "2021    23\n",
      "2022    24\n",
      "2023    26\n",
      "dtype: int64\n"
     ]
    }
   ],
   "source": [
    "import pandas as pd \n",
    "\n",
    "# index March 2020-2022 avg-temp   \n",
    "years = range(2020, 2024)\n",
    "\n",
    "# 建立3個國家的 Series物件\n",
    "beijing = pd.Series([20, 15, 19, 18], index = years)\n",
    "hongkong = pd.Series([17, 21, 23, 19], index = years)\n",
    "singapore = pd.Series([25, 23, 24, 26], index = years)\n",
    "\n",
    "# concat() 預設的 axis = 0 不是我們預期的結果 \n",
    "citydf = pd.concat([beijing, hongkong, singapore], axis = 0)\n",
    "\n",
    "# 顯示物件型態\n",
    "print(type(citydf))\n",
    "print(citydf)"
   ]
  },
  {
   "cell_type": "markdown",
   "metadata": {},
   "source": [
    "### 改變concat() 內的 axis 參數，會發現物件的data type = dataframe"
   ]
  },
  {
   "cell_type": "code",
   "execution_count": 167,
   "metadata": {},
   "outputs": [
    {
     "name": "stdout",
     "output_type": "stream",
     "text": [
      "<class 'pandas.core.frame.DataFrame'>\n",
      "       0   1   2\n",
      "2020  20  17  25\n",
      "2021  15  21  23\n",
      "2022  19  23  24\n",
      "2023  18  19  26\n"
     ]
    }
   ],
   "source": [
    "import pandas as pd \n",
    "\n",
    "# index March 2020-2022 avg-temp   \n",
    "years = range(2020, 2024)\n",
    "\n",
    "# 建立3個國家的 Series物件\n",
    "beijing = pd.Series([20, 15, 19, 18], index = years)\n",
    "hongkong = pd.Series([17, 21, 23, 19], index = years)\n",
    "singapore = pd.Series([25, 23, 24, 26], index = years)\n",
    "\n",
    "# concat() 預設的 axis = 1 不是我們預期的結果 \n",
    "citydf = pd.concat([beijing, hongkong, singapore], axis = 1)\n",
    "\n",
    "# 顯示物件型態\n",
    "print(type(citydf))\n",
    "print(citydf)"
   ]
  },
  {
   "cell_type": "markdown",
   "metadata": {},
   "source": [
    "### *.columns(), 加上欄位標籤 \"北京\"、\"香港\"、\"新加坡\" "
   ]
  },
  {
   "cell_type": "code",
   "execution_count": 168,
   "metadata": {},
   "outputs": [
    {
     "name": "stdout",
     "output_type": "stream",
     "text": [
      "<class 'pandas.core.frame.DataFrame'>\n",
      "      beijing  hongkong  singapore\n",
      "2020       20        17         25\n",
      "2021       15        21         23\n",
      "2022       19        23         24\n",
      "2023       18        19         26\n"
     ]
    }
   ],
   "source": [
    "import pandas as pd \n",
    "\n",
    "# index March 2020-2022 avg-temp   \n",
    "years = range(2020, 2024)\n",
    "\n",
    "# 建立3個國家的 Series物件\n",
    "beijing = pd.Series([20, 15, 19, 18], index = years)\n",
    "hongkong = pd.Series([17, 21, 23, 19], index = years)\n",
    "singapore = pd.Series([25, 23, 24, 26], index = years)\n",
    "\n",
    "# concat() axis = 1 得到完整的行列\n",
    "citydf = pd.concat([beijing, hongkong, singapore], axis = 1)\n",
    "city = ['beijing', 'hongkong', 'singapore']\n",
    "\n",
    "# 加上欄位標籤 \"北京\"、\"香港\"、\"新加坡\" \n",
    "citydf.columns = city\n",
    "\n",
    "# 顯示物件型態\n",
    "print(type(citydf))\n",
    "print(citydf)"
   ]
  },
  {
   "cell_type": "markdown",
   "metadata": {},
   "source": [
    "## 1. Series 物件的 name屬性\n",
    "\n",
    "### Ex2: The \"name\" attribute in Series method \n",
    "在columns 加入國家名字"
   ]
  },
  {
   "cell_type": "code",
   "execution_count": 169,
   "metadata": {},
   "outputs": [
    {
     "name": "stdout",
     "output_type": "stream",
     "text": [
      "<class 'pandas.core.frame.DataFrame'>\n",
      "      Beijing  Hongkong  Singapore\n",
      "2020       20        17         25\n",
      "2021       15        21         23\n",
      "2022       19        23         24\n",
      "2023       18        19         26\n"
     ]
    }
   ],
   "source": [
    "import pandas as pd \n",
    "\n",
    "# index March 2020-2022 avg-temp   \n",
    "years = range(2020, 2024)\n",
    "\n",
    "# 建立3個國家的 Series物件\n",
    "beijing = pd.Series([20, 15, 19, 18], index = years, name = 'Beijing')\n",
    "hongkong = pd.Series([17, 21, 23, 19], index = years, name = 'Hongkong')\n",
    "singapore = pd.Series([25, 23, 24, 26], index = years, name = 'Singapore')\n",
    "\n",
    "# concat() 預設的 axis = 1 不是我們預期的結果 \n",
    "citydf = pd.concat([beijing, hongkong, singapore], axis = 1)\n",
    "\n",
    "# 顯示物件型態\n",
    "print(type(citydf))\n",
    "print(citydf)"
   ]
  },
  {
   "cell_type": "markdown",
   "metadata": {},
   "source": [
    "### Ex3. 使用元素是 dict 的串列建立 DataFrame "
   ]
  },
  {
   "cell_type": "code",
   "execution_count": 170,
   "metadata": {},
   "outputs": [
    {
     "name": "stdout",
     "output_type": "stream",
     "text": [
      "   apple  Orange  Grape\n",
      "0     50    30.0     80\n",
      "1     50     NaN     80\n"
     ]
    }
   ],
   "source": [
    "import pandas as pd\n",
    "data = [{'apple':50,'Orange':30,'Grape':80}, {'apple':50,'Grape':80}]\n",
    "fruits = pd.DataFrame(data)\n",
    "print(fruits)"
   ]
  },
  {
   "cell_type": "markdown",
   "metadata": {},
   "source": [
    "### Ex4: 使用字典(key: value[list])建立 DataFrame"
   ]
  },
  {
   "cell_type": "code",
   "execution_count": 171,
   "metadata": {},
   "outputs": [
    {
     "name": "stdout",
     "output_type": "stream",
     "text": [
      "     country       town  population\n",
      "0      China    Beijing        2000\n",
      "1      Japan      Tokyo        1600\n",
      "2  Singapore  Singapore         600\n"
     ]
    }
   ],
   "source": [
    "import pandas as pd \n",
    "\n",
    "cities = {'country': ['China', 'Japan', 'Singapore'],\n",
    "         'town': ['Beijing', 'Tokyo', 'Singapore'],\n",
    "         'population': [2000, 1600, 600]}\n",
    "\n",
    "cities = pd.DataFrame(cities)\n",
    "print(cities)"
   ]
  },
  {
   "cell_type": "markdown",
   "metadata": {},
   "source": [
    "### Ex5: 自定義Index屬性 \n",
    "\n",
    "```python\n",
    "cities = pd.DataFrame(cities, index = rowindex)\n",
    "```"
   ]
  },
  {
   "cell_type": "code",
   "execution_count": 172,
   "metadata": {},
   "outputs": [
    {
     "name": "stdout",
     "output_type": "stream",
     "text": [
      "          country       town  population\n",
      "first       China    Beijing        2000\n",
      "second      Japan      Tokyo        1600\n",
      "third   Singapore  Singapore         600\n"
     ]
    }
   ],
   "source": [
    "import pandas as pd \n",
    "\n",
    "cities = {'country': ['China', 'Japan', 'Singapore'],\n",
    "         'town': ['Beijing', 'Tokyo', 'Singapore'],\n",
    "         'population': [2000, 1600, 600]}\n",
    "\n",
    "rowindex = ['first', 'second', 'third']\n",
    "cities = pd.DataFrame(cities, index = rowindex)\n",
    "print(cities)"
   ]
  },
  {
   "cell_type": "markdown",
   "metadata": {},
   "source": [
    "### Ex6: 將 column當作 index，並只呈現資料中的幾個 columns "
   ]
  },
  {
   "cell_type": "code",
   "execution_count": 173,
   "metadata": {},
   "outputs": [
    {
     "name": "stdout",
     "output_type": "stream",
     "text": [
      "                town  population\n",
      "China        Beijing        2000\n",
      "Japan          Tokyo        1600\n",
      "Singapore  Singapore         600\n"
     ]
    }
   ],
   "source": [
    "import pandas as pd\n",
    "cities = {'country': ['China', 'Japan', 'Singapore'],\n",
    "         'town': ['Beijing', 'Tokyo', 'Singapore'],\n",
    "         'population': [2000, 1600, 600]}\n",
    "\n",
    "\n",
    "citydf = pd.DataFrame(cities, columns= ['town', 'population'],\n",
    "                      index = cities['country'])\n",
    "print(citydf)"
   ]
  },
  {
   "cell_type": "markdown",
   "metadata": {},
   "source": [
    "---\n",
    "## 2. Pandas 資料分析與處理 \n",
    "\n",
    "1. (index)索引參照屬性: <br>\n",
    "```at``` : 使用 index 和 columns ```內容```取得或設定單一元素或陣列內容<br>\n",
    "```iat``` : 使用 index 和 columns ```標號```取得或設定單一元素內容<br>\n",
    "```loc``` : 使用 index 和 columns ```內容```取得或設定整個 row/ columns 資料或陣列內容<br>\n",
    "```iloc``` : 使用 index 和 columns ```標號```取得或設定整個 row/ columns 資料<br>"
   ]
  },
  {
   "cell_type": "markdown",
   "metadata": {},
   "source": [
    "### 2.1 利用一個 DataFrame測試索引屬性"
   ]
  },
  {
   "cell_type": "code",
   "execution_count": 174,
   "metadata": {},
   "outputs": [
    {
     "name": "stdout",
     "output_type": "stream",
     "text": [
      "                Town  Population\n",
      "China        Beijing        2000\n",
      "China       Shanghai        2300\n",
      "Thailand     Bangkok         900\n",
      "Japan          Tokyo        1600\n",
      "Singapore  Singapore         600\n",
      "\n",
      "\n",
      "Test 'at':  1600\n",
      "Test 'at':  [2000 2300]\n",
      "Test 'iat':  Singapore\n",
      "Test 'loc': \n",
      "                 Town  Population\n",
      "Singapore  Singapore         600\n",
      "Japan          Tokyo        1600\n",
      "Test 'loc': \n",
      "               Town  Population\n",
      "China      Beijing        2000\n",
      "China     Shanghai        2300\n",
      "Thailand   Bangkok         900\n",
      "Japan        Tokyo        1600\n",
      "\n",
      "\n",
      "Test 'iloc': \n",
      " Town          Beijing\n",
      "Population       2000\n",
      "Name: China, dtype: object\n"
     ]
    }
   ],
   "source": [
    "import pandas as pd\n",
    "cities = {'Country': ['China', 'China', 'Thailand', 'Japan', 'Singapore'],\n",
    "          'Town': ['Beijing', 'Shanghai', 'Bangkok', 'Tokyo', 'Singapore'],\n",
    "          'Population': [2000, 2300, 900, 1600, 600]}\n",
    "\n",
    "df = pd.DataFrame(cities, columns=  [\"Town\",\"Population\"],\n",
    "                  index = cities[\"Country\"])\n",
    "print(df)\n",
    "\n",
    "print('\\n')\n",
    "# 用 at屬性獲得某個 row, columns 的資料 \n",
    "print(\"Test 'at': \", df.at['Japan', 'Population'])\n",
    "print(\"Test 'at': \", df.at['China', 'Population'])\n",
    "\n",
    "# 用 at屬性獲得某個 row, columns 的資料 \n",
    "print(\"Test 'iat': \", df.iat[4, 0])\n",
    "\n",
    "# 用 loc屬性獲得某些 row的資料 \n",
    "print(\"Test 'loc': \\n\", df.loc[['Singapore', 'Japan']])\n",
    "print(\"Test 'loc': \\n\", df.loc['China': 'Japan', 'Town': 'Population'])\n",
    "\n",
    "print('\\n')\n",
    "# 用 iloc屬性獲得 row = 0 的資料\n",
    "print(\"Test 'iloc': \\n\", df.iloc[0])"
   ]
  },
  {
   "cell_type": "markdown",
   "metadata": {},
   "source": [
    "### 2.2 直接索引\n",
    "\n",
    "**Reminding**\n",
    "**這邊要注意，如果要看 dataframe特定的一個資料，要用dataframe['column']['index']，如果先 index 在column 會失敗**<br>\n",
    "```python\n",
    "print(df['col']['index'])\n",
    "```"
   ]
  },
  {
   "cell_type": "code",
   "execution_count": 175,
   "metadata": {},
   "outputs": [
    {
     "name": "stdout",
     "output_type": "stream",
     "text": [
      "China          Beijing\n",
      "China         Shanghai\n",
      "Thailand       Bangkok\n",
      "Japan            Tokyo\n",
      "Singapore    Singapore\n",
      "Name: Town, dtype: object\n",
      "China     Beijing\n",
      "China    Shanghai\n",
      "Name: Town, dtype: object\n"
     ]
    }
   ],
   "source": [
    "import pandas as pd\n",
    "cities = {'Country':['China', 'China', 'Thailand', 'Japan', 'Singapore'],\n",
    "          'Town':['Beijing', 'Shanghai', 'Bangkok', 'Tokyo', 'Singapore'],\n",
    "          'Population':[2000, 2300, 900, 1600, 600]}\n",
    "\n",
    "df = pd.DataFrame(cities, columns=  [\"Town\", \"Population\"],\n",
    "                  index = cities[\"Country\"])\n",
    "\n",
    "# 直接取得 'Town' column下的資料\n",
    "print(df['Town'])\n",
    "\n",
    "# dataframe['column']['index']\n",
    "print(df['Town']['China'])"
   ]
  },
  {
   "cell_type": "markdown",
   "metadata": {},
   "source": [
    "### 2.3 四則運算方法\n",
    "\n",
    "* add(): 加法運算\n",
    "* sub(): 減法運算\n",
    "* mul(): 乘法運算\n",
    "* div(): 除法運算"
   ]
  },
  {
   "cell_type": "code",
   "execution_count": 185,
   "metadata": {},
   "outputs": [
    {
     "name": "stdout",
     "output_type": "stream",
     "text": [
      "0    5\n",
      "1    7\n",
      "2    9\n",
      "dtype: int640   -3\n",
      "1   -3\n",
      "2   -3\n",
      "dtype: int64\n",
      "0     4\n",
      "1    10\n",
      "2    18\n",
      "dtype: int64\n",
      "0    0.25\n",
      "1    0.40\n",
      "2    0.50\n",
      "dtype: float64\n"
     ]
    }
   ],
   "source": [
    "import pandas as pd\n",
    "\n",
    "s1 = pd.Series([1, 2, 3])\n",
    "s2 = pd.Series([4, 5, 6])\n",
    "\n",
    "add_x = s1.add(s2)\n",
    "sub_x = s1.sub(s2)\n",
    "mul_x = s1.mul(s2)\n",
    "div_x = s1.div(s2)\n",
    "\n",
    "print(add_x)\n",
    "print(sub_x)\n",
    "print(mul_x)\n",
    "print(div_x)"
   ]
  },
  {
   "cell_type": "code",
   "execution_count": 198,
   "metadata": {},
   "outputs": [
    {
     "name": "stdout",
     "output_type": "stream",
     "text": [
      "    a   b\n",
      "0  11  22\n",
      "1  33  44\n",
      "\n",
      "    a   b\n",
      "0   9  18\n",
      "1  27  36\n",
      "\n",
      "    a    b\n",
      "0  10   40\n",
      "1  90  160\n",
      "\n",
      "      a     b\n",
      "0  10.0  10.0\n",
      "1  10.0  10.0\n",
      "\n"
     ]
    }
   ],
   "source": [
    "import pandas as pd \n",
    "\n",
    "# 字典形式才可以直接 pd.dataFrame()\n",
    "data_1 = [{'a': 10, 'b': 20}, {'a': 30, 'b': 40}]\n",
    "df_1 = pd.DataFrame(data_1)\n",
    "data_2 = [{'a': 1, 'b': 2}, {'a': 3, 'b': 4}]\n",
    "df_2 = pd.DataFrame(data_2)\n",
    "\n",
    "add_x = df_1.add(df_2)\n",
    "sub_x = df_1.sub(df_2)\n",
    "mul_x = df_1.mul(df_2)\n",
    "div_x = df_1.div(df_2)\n",
    "\n",
    "print(add_x, end = '\\n\\n')\n",
    "print(sub_x, end = '\\n\\n')\n",
    "print(mul_x, end = '\\n\\n')\n",
    "print(div_x, end = '\\n\\n')"
   ]
  },
  {
   "cell_type": "markdown",
   "metadata": {},
   "source": [
    "### 2.4 邏輯運算方法(僅適用於Pandas)\n",
    "\n",
    "* gt()、lt(): 大於、小於運算\n",
    "* ge()、le(): 大於或等於、小於或等於運算  \n",
    "* eq()、ne(): 等於、不等於運算"
   ]
  },
  {
   "cell_type": "code",
   "execution_count": 206,
   "metadata": {},
   "outputs": [
    {
     "name": "stdout",
     "output_type": "stream",
     "text": [
      "Greater than:\n",
      " 0    False\n",
      "1     True\n",
      "2     True\n",
      "dtype: bool\n",
      "\n",
      "Less than:\n",
      " 0     True\n",
      "1    False\n",
      "2    False\n",
      "dtype: bool\n",
      "\n",
      "Greater equal:\n",
      " 0    False\n",
      "1     True\n",
      "2     True\n",
      "dtype: bool\n",
      "\n"
     ]
    }
   ],
   "source": [
    "import pandas as pd \n",
    "\n",
    "s1 = pd.Series([1, 5, 9])\n",
    "s2 = pd.Series([2, 4 ,8])\n",
    "gt_x = s1.gt(s2)\n",
    "lt_x = s1.lt(s2)\n",
    "ge_x = s1.ge(s2)\n",
    "\n",
    "print('Greater than:\\n', gt_x, end = '\\n\\n')\n",
    "print('Less than:\\n', lt_x, end = '\\n\\n')\n",
    "print('Greater equal:\\n', ge_x, end = '\\n\\n')"
   ]
  },
  {
   "cell_type": "markdown",
   "metadata": {},
   "source": [
    "### 2.5 numpy應用在Pandas上"
   ]
  },
  {
   "cell_type": "code",
   "execution_count": 207,
   "metadata": {},
   "outputs": [
    {
     "name": "stdout",
     "output_type": "stream",
     "text": [
      "        Frank  Peter  John\n",
      "first      75     85    62\n",
      "second     86     62    65\n",
      "final      98     86    63\n"
     ]
    }
   ],
   "source": [
    "import pandas as pd\n",
    "import numpy as np\n",
    "\n",
    "name = ['Frank', 'Peter', 'John']\n",
    "score = ['first', 'second', 'final']\n",
    "\n",
    "# randint(start, end, size of metric)，隨機產生數值\n",
    "df = pd.DataFrame(np.random.randint(60, 100, size = (3, 3)),\n",
    "                  columns = name,\n",
    "                  index = score)\n",
    "print(df)"
   ]
  },
  {
   "cell_type": "markdown",
   "metadata": {},
   "source": [
    "### 2.6 NaN相關運算\n",
    "[處理NaN相關method](https://pandas.pydata.org/pandas-docs/stable/user_guide/missing_data.html)\n",
    "\n",
    "[randn() python](https://numpy.org/doc/stable/reference/random/generated/numpy.random.randn.html)\n",
    "* **dropna()**: 將NaN刪除，然後傳回新的Series或 DataFrame 物件。\n",
    "* **fillna(value)**: 將NaN由特定的Value取代，然後傳回新的Series或 DataFrame 物件\n",
    "* **isna**: 判斷是否為 NaN，如果是傳回True，如果否則傳回False\n",
    "* **notna**: 判斷是否為NaN，如果是傳回False，如果否傳回True"
   ]
  },
  {
   "cell_type": "code",
   "execution_count": 226,
   "metadata": {},
   "outputs": [
    {
     "name": "stdout",
     "output_type": "stream",
     "text": [
      "df\n",
      "         one       two     three four   five\n",
      "a -1.723974 -0.544904  0.147253  bar  False\n",
      "c  0.596331 -0.676226  1.087980  bar   True\n",
      "b  1.396781  0.742324 -0.394887  bar   True\n",
      "f -0.228591 -1.268186  1.020992  bar  False\n",
      "g  2.854522  0.352496  0.190567  bar   True\n",
      "\n",
      "df2\n",
      "         one       two     three four   five\n",
      "a -1.723974 -0.544904  0.147253  bar  False\n",
      "b  1.396781  0.742324 -0.394887  bar   True\n",
      "c  0.596331 -0.676226  1.087980  bar   True\n",
      "d       NaN       NaN       NaN  NaN    NaN\n",
      "e       NaN       NaN       NaN  NaN    NaN\n",
      "f -0.228591 -1.268186  1.020992  bar  False\n",
      "g  2.854522  0.352496  0.190567  bar   True\n",
      "h       NaN       NaN       NaN  NaN    NaN\n",
      "\n",
      "isna\n",
      "      one    two  three   four   five\n",
      "a  False  False  False  False  False\n",
      "b  False  False  False  False  False\n",
      "c  False  False  False  False  False\n",
      "d   True   True   True   True   True\n",
      "e   True   True   True   True   True\n",
      "f  False  False  False  False  False\n",
      "g  False  False  False  False  False\n",
      "h   True   True   True   True   True\n",
      "\n",
      "dropna\n",
      "         one       two     three four   five\n",
      "a -1.723974 -0.544904  0.147253  bar  False\n",
      "b  1.396781  0.742324 -0.394887  bar   True\n",
      "c  0.596331 -0.676226  1.087980  bar   True\n",
      "f -0.228591 -1.268186  1.020992  bar  False\n",
      "g  2.854522  0.352496  0.190567  bar   True\n",
      "\n",
      "fillna\n",
      "          one        two      three  four   five\n",
      "a  -1.723974  -0.544904   0.147253   bar  False\n",
      "b   1.396781   0.742324  -0.394887   bar   True\n",
      "c   0.596331  -0.676226   1.087980   bar   True\n",
      "d  20.300000  20.300000  20.300000  20.3   20.3\n",
      "e  20.300000  20.300000  20.300000  20.3   20.3\n",
      "f  -0.228591  -1.268186   1.020992   bar  False\n",
      "g   2.854522   0.352496   0.190567   bar   True\n",
      "h  20.300000  20.300000  20.300000  20.3   20.3\n",
      "\n"
     ]
    }
   ],
   "source": [
    "import pandas as pd\n",
    "import numpy as np\n",
    "\n",
    "# 創一個 5 by 3 metric with random value\n",
    "df = pd.DataFrame(np.random.randn(5, 3), index = ['a', 'c', 'b', 'f', 'g'], \\\n",
    "                 columns = ['one', 'two', 'three'])\n",
    "df['four'] = 'bar'\n",
    "df['five'] = df['one'] > 0\n",
    "df2 = df.reindex(['a', 'b', 'c', 'd', 'e', 'f', 'g', 'h'])\n",
    "\n",
    "print('df\\n', df, end = '\\n\\n')\n",
    "print('df2\\n', df2, end = '\\n\\n')\n",
    "# isna ()\n",
    "print('isna\\n', df2.isna(), end = '\\n\\n')\n",
    "# dropna()\n",
    "print('dropna\\n', df2.dropna(), end = '\\n\\n')\n",
    "# fillna()\n",
    "print('fillna\\n', df2.fillna(20.3), end = '\\n\\n')"
   ]
  },
  {
   "cell_type": "code",
   "execution_count": null,
   "metadata": {},
   "outputs": [],
   "source": []
  },
  {
   "cell_type": "code",
   "execution_count": null,
   "metadata": {},
   "outputs": [],
   "source": []
  },
  {
   "cell_type": "code",
   "execution_count": null,
   "metadata": {},
   "outputs": [],
   "source": []
  },
  {
   "cell_type": "code",
   "execution_count": null,
   "metadata": {},
   "outputs": [],
   "source": []
  },
  {
   "cell_type": "code",
   "execution_count": null,
   "metadata": {},
   "outputs": [],
   "source": []
  },
  {
   "cell_type": "code",
   "execution_count": null,
   "metadata": {},
   "outputs": [],
   "source": []
  },
  {
   "cell_type": "code",
   "execution_count": null,
   "metadata": {},
   "outputs": [],
   "source": []
  },
  {
   "cell_type": "code",
   "execution_count": null,
   "metadata": {},
   "outputs": [],
   "source": []
  },
  {
   "cell_type": "code",
   "execution_count": null,
   "metadata": {},
   "outputs": [],
   "source": []
  }
 ],
 "metadata": {
  "kernelspec": {
   "display_name": "Python 3",
   "language": "python",
   "name": "python3"
  },
  "language_info": {
   "codemirror_mode": {
    "name": "ipython",
    "version": 3
   },
   "file_extension": ".py",
   "mimetype": "text/x-python",
   "name": "python",
   "nbconvert_exporter": "python",
   "pygments_lexer": "ipython3",
   "version": "3.7.6"
  }
 },
 "nbformat": 4,
 "nbformat_minor": 4
}
