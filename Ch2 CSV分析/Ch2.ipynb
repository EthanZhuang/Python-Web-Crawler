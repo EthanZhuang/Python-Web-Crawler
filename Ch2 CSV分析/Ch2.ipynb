{
 "cells": [
  {
   "cell_type": "markdown",
   "metadata": {},
   "source": [
    "Objective\n",
    "===\n",
    "1. CSV (Comma-Separated Values)簡介\n",
    "2. 讀取 CSV file\n",
    "3. 寫入 CSV file\n",
    "\n",
    "## Resources\n",
    "\n",
    "0. [JSON.org documentation](https://www.json.org/json-en.html)\n",
    "\n",
    "1. [Web Scraping by BeautifulSoup 開發網路爬蟲、解析網頁資料](https://blog.gtwang.org/programming/python-beautiful-soup-module-scrape-web-pages-tutorial/)\n",
    "\n",
    "2. [DAY16 - Big data 網頁解析](https://ithelp.ithome.com.tw/articles/10186119)\n",
    "\n",
    "3. [Reading and writing in Python - \"with statement\"](https://www.pythonforbeginners.com/files/reading-and-writing-files-in-python)\n",
    "\n",
    "4. [utf-8 info](https://www.fileformat.info/info/unicode/utf8.htm#:~:text=UTF%2D8%20is%20a%20compromise,blocks%20to%20represent%20a%20character.)\n",
    "\n",
    "5. [try except in Python - Programiz.com](https://www.programiz.com/python-programming/exception-handling)\n",
    "\n",
    "**地圖繪製**\n",
    "6. [Why Python pygal code can't show the map up in others IDE (not jupyter notebook)](https://stackoverflow.com/questions/48004229/python-pygal-code-world-map)\n",
    "* [Python pygal documentation](http://www.pygal.org/en/stable/documentation/types/maps/pygal_maps_world.html)\n",
    "\n",
    "**SVG file display**\n",
    "8. [SVG 資料顯示於 IPython](https://stackoverflow.com/questions/56514491/ipython-display-svg-cannot-render-a-svg-image-generated-by-svg-filter-line-off)\n",
    "\n",
    "**路徑問題**\n",
    "\n",
    "9. [VScoed 開啟檔案需要完整的路徑物](https://stackoverflow.com/questions/63508254/filenotfounderror-errno-2-no-such-file-or-directory-data-json-in-vs-code)\n",
    "\n",
    "## Problem (Solved)\n"
   ]
  },
  {
   "cell_type": "markdown",
   "metadata": {},
   "source": [
    "##  CSV 檔案簡介\n",
    "1. CSV 可以由筆記本開啟\n",
    "```python\n",
    "# csvFile 是可以自由命名的\"檔案物件\"\n",
    "with open(檔案名稱) as csvFile \n",
    "    # 讀檔案 reader\n",
    "    csvReader = csv.reader(csvFile)\n",
    "    # 將資料轉換成串列\n",
    "    listReport = list(csvReader)\n",
    "    print(listReport)\n",
    "```"
   ]
  },
  {
   "cell_type": "code",
   "execution_count": 1,
   "metadata": {},
   "outputs": [
    {
     "name": "stdout",
     "output_type": "stream",
     "text": [
      "[['Name', 'Year', 'Product', 'Price', 'Quantity', 'Revenue', 'Location'], ['Diana', '2015', 'Black Tea', '10', '600', '6000', 'New York'], ['Diana', '2015', 'Green Tea', '7', '660', '4620', 'New York'], ['Diana', '2016', 'Black Tea', '10', '750', '7500', 'New York'], ['Diana', '2016', 'Green Tea', '7', '900', '6300', 'New York'], ['Julia', '2015', 'Black Tea', '10', '1200', '12000', 'New York'], ['Julia', '2016', 'Black Tea', '10', '1260', '12600', 'New York'], ['Steve', '2015', 'Black Tea', '10', '1170', '11700', 'Chicago'], ['Steve', '2015', 'Green Tea', '7', '1260', '8820', 'Chicago'], ['Steve', '2016', 'Black Tea', '10', '1350', '13500', 'Chicago'], ['Steve', '2016', 'Green Tea', '7', '1440', '10080', 'Chicago']]\n"
     ]
    }
   ],
   "source": [
    "# ch2_1.py\n",
    "import csv\n",
    "\n",
    "fn = 'csvReport.csv'\n",
    "with open(fn) as csvFile:               # 開啟csv檔案\n",
    "    csvReader = csv.reader(csvFile)     # 讀檔案建立Reader物件\n",
    "    listReport = list(csvReader)        # 將資料轉成串列    \n",
    "print(listReport)                       # 列印串列方法"
   ]
  },
  {
   "cell_type": "markdown",
   "metadata": {},
   "source": [
    "## 1. 讀取CSV file 的資料"
   ]
  },
  {
   "cell_type": "code",
   "execution_count": null,
   "metadata": {},
   "outputs": [],
   "source": [
    "# ch2_1.py\n",
    "import csv\n",
    "\n",
    "fn = 'csvReport.csv'\n",
    "with open(fn) as csvFile:               # 開啟csv檔案\n",
    "    csvReader = csv.reader(csvFile)     # 讀檔案建立Reader物件\n",
    "#     listReport = list(csvReader)        # 將資料轉成串列   \n",
    "    \n",
    "    for row in csvReader:\n",
    "        print('Row %s = ' % csvReader.line_num, row)\n",
    "        print(csvReader)"
   ]
  },
  {
   "cell_type": "code",
   "execution_count": 10,
   "metadata": {},
   "outputs": [
    {
     "name": "stdout",
     "output_type": "stream",
     "text": [
      "['Name', 'Year', 'Product', 'Price', 'Quantity', 'Revenue', 'Location']\n",
      "['Diana', '2015', 'Black Tea', '10', '600', '6000', 'New York']\n",
      "['Diana', '2015', 'Green Tea', '7', '660', '4620', 'New York']\n",
      "['Diana', '2016', 'Black Tea', '10', '750', '7500', 'New York']\n",
      "['Diana', '2016', 'Green Tea', '7', '900', '6300', 'New York']\n",
      "['Julia', '2015', 'Black Tea', '10', '1200', '12000', 'New York']\n",
      "['Julia', '2016', 'Black Tea', '10', '1260', '12600', 'New York']\n",
      "['Steve', '2015', 'Black Tea', '10', '1170', '11700', 'Chicago']\n",
      "['Steve', '2015', 'Green Tea', '7', '1260', '8820', 'Chicago']\n",
      "['Steve', '2016', 'Black Tea', '10', '1350', '13500', 'Chicago']\n",
      "['Steve', '2016', 'Green Tea', '7', '1440', '10080', 'Chicago']\n"
     ]
    }
   ],
   "source": [
    "# ch2_2.py\n",
    "import csv\n",
    "\n",
    "fn = 'csvReport.csv'\n",
    "with open(fn) as csvFile:               # 開啟csv檔案\n",
    "    csvReader = csv.reader(csvFile)     # 讀檔案建立Reader物件\n",
    "    listReport = list(csvReader)        # 將資料轉成串列   \n",
    "    \n",
    "    for row in listReport:\n",
    "        print(row)"
   ]
  },
  {
   "cell_type": "markdown",
   "metadata": {},
   "source": [
    "## DictReader() 的使用方法\n",
    "\n",
    "一種讀取CSV 資料的方法，回傳的是**排序字典(OrderedDict)**類型。所以可以使用**欄位名稱當索引**方式取得資料。"
   ]
  },
  {
   "cell_type": "code",
   "execution_count": 16,
   "metadata": {},
   "outputs": [
    {
     "name": "stdout",
     "output_type": "stream",
     "text": [
      "OrderedDict([('first_name', 'Eli'), ('last_name', 'Manning'), ('city', 'New York')])\n",
      "OrderedDict([('first_name', 'Kevin '), ('last_name', 'James'), ('city', 'Cleveland')])\n",
      "OrderedDict([('first_name', 'Mike'), ('last_name', 'Jordon'), ('city', 'Chicago')])\n"
     ]
    }
   ],
   "source": [
    "import csv\n",
    "import pandas as pd\n",
    "\n",
    "fn = 'csvPeople.csv'\n",
    "with open(fn) as csvFile:\n",
    "    # Build the DictReader Object\n",
    "    csvDictReader = csv.DictReader(csvFile)\n",
    "    \n",
    "    # print out each row data from csvDictReader\n",
    "    for row in csvDictReader:\n",
    "        print(row)\n",
    "\n"
   ]
  },
  {
   "cell_type": "code",
   "execution_count": 17,
   "metadata": {},
   "outputs": [
    {
     "name": "stdout",
     "output_type": "stream",
     "text": [
      "Eli Manning\n",
      "Kevin  James\n",
      "Mike Jordon\n"
     ]
    }
   ],
   "source": [
    "import csv\n",
    "\n",
    "fn = 'csvPeople.csv'\n",
    "with open(fn) as csvFile:\n",
    "    # Build the DictReader Object\n",
    "    csvDictReader = csv.DictReader(csvFile)\n",
    "    \n",
    "    # print out each row data from csvDictReader\n",
    "    for row in csvDictReader:\n",
    "        print(row['first_name'], row['last_name'])"
   ]
  },
  {
   "cell_type": "markdown",
   "metadata": {},
   "source": [
    "## 2. 資料寫入 CSV file，開啟欲寫入的檔案 open() 與關閉檔案 close()\n",
    "\n",
    "使用```newline = ''```可以避免輸出時，每行之間多空一行\n",
    "\n",
    "```python\n",
    "# w 是 write only 模式 \n",
    "csvFile = open('檔案名稱', 'w', newline = '')\n",
    "...\n",
    "# 執行結束，關閉檔案\n",
    "csvFile.close()\n",
    "```\n",
    "\n",
    "如果是使用 with 關鍵字可以省略 close()，如之前所用\n",
    "\n",
    "```python\n",
    "with open('file_name', 'w', newline = '') as csvFile:\n",
    "    ...\n",
    "```\n",
    "\n",
    "## 輸出串列 writeeow()，並比較 fn (有newline = ' ') 和 fn2 (沒有 newline = ' ')"
   ]
  },
  {
   "cell_type": "code",
   "execution_count": 2,
   "metadata": {},
   "outputs": [
    {
     "name": "stdout",
     "output_type": "stream",
     "text": [
      "['Name', 'Age', 'City']\n",
      "['Hung', '554', 'Taipei']\n",
      "['James', '42', 'Chicago']\n",
      "\n",
      "\n",
      "['Name', 'Age', 'City']\n",
      "[]\n",
      "['Hung', '554', 'Taipei']\n",
      "[]\n",
      "['James', '42', 'Chicago']\n",
      "[]\n"
     ]
    }
   ],
   "source": [
    "import csv \n",
    "import pandas as pd\n",
    "\n",
    "fn = 'out2_7.csv'\n",
    "fn2 = 'out2_7_1.csv'\n",
    "# 將資料寫入 fn 中\n",
    "with open(fn, 'w', newline = '') as csvFile:\n",
    "    csvWriter = csv.writer(csvFile)\n",
    "    csvWriter.writerow(['Name', 'Age', 'City'])\n",
    "    csvWriter.writerow(['Hung', '554', 'Taipei'])\n",
    "    csvWriter.writerow(['James', '42', 'Chicago'])\n",
    "# data = pd.read_csv(fn)\n",
    "# data\n",
    "\n",
    "with open(fn) as file:\n",
    "    csvReader = csv.reader(file)     # 讀檔案建立Reader物件\n",
    "    listReport = list(csvReader)        # 將資料轉成串列   \n",
    "    for row in listReport:\n",
    "        print(row)\n",
    "    print('\\n')\n",
    "    \n",
    "## ==========================================================    \n",
    "# 將資料寫入 fn2 中\n",
    "with open(fn2, 'w') as csvFile:\n",
    "    csvWriter = csv.writer(csvFile)\n",
    "    csvWriter.writerow(['Name', 'Age', 'City'])\n",
    "    csvWriter.writerow(['Hung', '554', 'Taipei'])\n",
    "    csvWriter.writerow(['James', '42', 'Chicago'])    \n",
    "\n",
    "with open(fn2) as file2:\n",
    "    csvReader = csv.reader(file2)     # 讀檔案建立Reader物件\n",
    "    listReport = list(csvReader)        # 將資料轉成串列   \n",
    "    for row in listReport:\n",
    "        print(row)"
   ]
  },
  {
   "cell_type": "markdown",
   "metadata": {},
   "source": [
    "## 複製 CSV檔案"
   ]
  },
  {
   "cell_type": "code",
   "execution_count": 33,
   "metadata": {},
   "outputs": [
    {
     "name": "stdout",
     "output_type": "stream",
     "text": [
      "['Name', 'Year', 'Product', 'Price', 'Quantity', 'Revenue', 'Location']\n",
      "['Diana', '2015', 'Black Tea', '10', '600', '6000', 'New York']\n",
      "['Diana', '2015', 'Green Tea', '7', '660', '4620', 'New York']\n",
      "['Diana', '2016', 'Black Tea', '10', '750', '7500', 'New York']\n",
      "['Diana', '2016', 'Green Tea', '7', '900', '6300', 'New York']\n",
      "['Julia', '2015', 'Black Tea', '10', '1200', '12000', 'New York']\n",
      "['Julia', '2016', 'Black Tea', '10', '1260', '12600', 'New York']\n",
      "['Steve', '2015', 'Black Tea', '10', '1170', '11700', 'Chicago']\n",
      "['Steve', '2015', 'Green Tea', '7', '1260', '8820', 'Chicago']\n",
      "['Steve', '2016', 'Black Tea', '10', '1350', '13500', 'Chicago']\n",
      "['Steve', '2016', 'Green Tea', '7', '1440', '10080', 'Chicago']\n"
     ]
    }
   ],
   "source": [
    "# ch2_8.py\n",
    "import csv\n",
    "\n",
    "infn = 'csvReport.csv'                              # 來源檔案\n",
    "outfn = 'out2_8.csv'                                # 目的檔案\n",
    "with open(infn) as csvRFile:                        # 開啟csv檔案供讀取\n",
    "    csvReader = csv.reader(csvRFile)                # 讀檔案建立Reader物件\n",
    "    listReport = list(csvReader)                    # 將資料轉成串列 \n",
    "\n",
    "with open(outfn, 'w', newline = '') as csvOFile:    # 開啟csv檔案供寫入\n",
    "    csvWriter = csv.writer(csvOFile)                # 建立Writer物件   \n",
    "    for row in listReport:                          # 將串列寫入\n",
    "        csvWriter.writerow(row)\n",
    "\n",
    "with open(outfn) as file:\n",
    "    csvReader = csv.reader(file)\n",
    "    listReport = list(csvReader)\n",
    "    for row in listReport:\n",
    "        print(row)"
   ]
  },
  {
   "cell_type": "markdown",
   "metadata": {},
   "source": [
    "## 寫入字典資料 DictWriter()\n",
    "\n",
    "* 將資料以字典方式儲存，然後利用 DictWriter() 寫入 CSV 檔案<br>\n",
    "```dictWriter = csv.DictWriter(csvFile, filednames = fileds)```\n",
    "\n",
    "\n",
    "* DictWriter 是字典的 Writer 物件，在上述指令前我們需要先設定 fields 串列，此串列會有將來內容的鍵(key) \n",
    "\n",
    "\n",
    "* ```dictWriter.writeheader()```主要寫入我們```dictWriter = csv.DictWriter(csvFile, filednames = fileds)```這裡面的設定的 filenames\n",
    "\n",
    "Thought flow:\n",
    "1. 先創一個fhand.csv(CSV資料儲存的檔案)。\n",
    "2. 手上已有資料(type: 字典)\n",
    "3. 開啟 csv 檔案\n",
    "4. 建立 Writer 物件\n",
    "5. 寫入標題(filenames = filed)\n",
    "6. 將資料寫入"
   ]
  },
  {
   "cell_type": "code",
   "execution_count": 40,
   "metadata": {},
   "outputs": [
    {
     "name": "stdout",
     "output_type": "stream",
     "text": [
      "<class 'list'>\n",
      "['Name', 'Age', 'City']\n",
      "['Hung', '35', 'Taipei']\n",
      "['James', '40', 'Chicago']\n"
     ]
    },
    {
     "data": {
      "text/html": [
       "<div>\n",
       "<style scoped>\n",
       "    .dataframe tbody tr th:only-of-type {\n",
       "        vertical-align: middle;\n",
       "    }\n",
       "\n",
       "    .dataframe tbody tr th {\n",
       "        vertical-align: top;\n",
       "    }\n",
       "\n",
       "    .dataframe thead th {\n",
       "        text-align: right;\n",
       "    }\n",
       "</style>\n",
       "<table border=\"1\" class=\"dataframe\">\n",
       "  <thead>\n",
       "    <tr style=\"text-align: right;\">\n",
       "      <th></th>\n",
       "      <th>Name</th>\n",
       "      <th>Age</th>\n",
       "      <th>City</th>\n",
       "    </tr>\n",
       "  </thead>\n",
       "  <tbody>\n",
       "    <tr>\n",
       "      <th>0</th>\n",
       "      <td>Hung</td>\n",
       "      <td>35</td>\n",
       "      <td>Taipei</td>\n",
       "    </tr>\n",
       "    <tr>\n",
       "      <th>1</th>\n",
       "      <td>James</td>\n",
       "      <td>40</td>\n",
       "      <td>Chicago</td>\n",
       "    </tr>\n",
       "  </tbody>\n",
       "</table>\n",
       "</div>"
      ],
      "text/plain": [
       "    Name  Age     City\n",
       "0   Hung   35   Taipei\n",
       "1  James   40  Chicago"
      ]
     },
     "execution_count": 40,
     "metadata": {},
     "output_type": "execute_result"
    }
   ],
   "source": [
    "# ch2_10.py\n",
    "import csv\n",
    "import pandas as pd\n",
    "\n",
    "fn = 'out2_10.csv'\n",
    "with open(fn, 'w', newline = '') as csvFile:                    # 開啟csv檔案\n",
    "    fields = ['Name', 'Age', 'City']\n",
    "    dictWriter = csv.DictWriter(csvFile, fieldnames = fields)     # 建立Writer物件\n",
    "\n",
    "    dictWriter.writeheader()                                    # 寫入標題\n",
    "    dictWriter.writerow({'Name':'Hung', 'Age':'35', 'City':'Taipei'})\n",
    "    dictWriter.writerow({'Name':'James', 'Age':'40', 'City':'Chicago'})\n",
    "    print(type(fields))\n",
    "    \n",
    "with open(fn) as file:\n",
    "    csvReader = csv.reader(file)\n",
    "    listReport = list(csvReader)\n",
    "    \n",
    "    for row in listReport:\n",
    "        print(row)\n",
    "\n",
    "data = pd.read_csv(fn)\n",
    "data"
   ]
  },
  {
   "cell_type": "code",
   "execution_count": 45,
   "metadata": {},
   "outputs": [
    {
     "name": "stdout",
     "output_type": "stream",
     "text": [
      "['Name', 'Age', 'City']\n",
      "['James', '40', 'New York']\n",
      "['Peter', '60', 'Taipei']\n"
     ]
    }
   ],
   "source": [
    "import csv \n",
    "\n",
    "fn = 'out2_10.csv'\n",
    "\n",
    "dictList = [{'Name': 'James', 'Age': '40', 'City': 'New York'},\n",
    "            {'Name': 'Peter', 'Age': '60', 'City': 'Taipei'}]\n",
    "fields = ['Name', 'Age', 'City']\n",
    "\n",
    "with open(fn, 'w', newline = '') as csvFile:\n",
    "    dictWriter = csv.DictWriter(csvFile, fieldnames = fields)\n",
    "    dictWriter.writeheader()\n",
    "    \n",
    "    for row in dictList:\n",
    "            dictWriter.writerow(row)\n",
    "\n",
    "# 檢查 CSV 內容\n",
    "with open(fn) as file:\n",
    "    csvReader = csv.reader(file)\n",
    "    listReport = list(csvReader)\n",
    "    \n",
    "    for row in listReport:\n",
    "        print(row)\n",
    "    "
   ]
  },
  {
   "cell_type": "code",
   "execution_count": null,
   "metadata": {},
   "outputs": [],
   "source": []
  }
 ],
 "metadata": {
  "kernelspec": {
   "display_name": "Python 3",
   "language": "python",
   "name": "python3"
  },
  "language_info": {
   "codemirror_mode": {
    "name": "ipython",
    "version": 3
   },
   "file_extension": ".py",
   "mimetype": "text/x-python",
   "name": "python",
   "nbconvert_exporter": "python",
   "pygments_lexer": "ipython3",
   "version": "3.7.6"
  }
 },
 "nbformat": 4,
 "nbformat_minor": 4
}
