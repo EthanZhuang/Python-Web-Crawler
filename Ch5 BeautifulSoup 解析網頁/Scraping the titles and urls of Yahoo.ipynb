{
 "cells": [
  {
   "cell_type": "code",
   "execution_count": null,
   "metadata": {},
   "outputs": [],
   "source": [
    "## 先找關鍵\n"
   ]
  },
  {
   "cell_type": "code",
   "execution_count": 32,
   "metadata": {},
   "outputs": [
    {
     "name": "stdout",
     "output_type": "stream",
     "text": [
      "Download Success\n"
     ]
    }
   ],
   "source": [
    "import bs4, requests, re\n",
    "\n",
    "# 使用 header 來偽裝瀏覽器\n",
    "headers = { 'User-Agent':'Mozilla/5.0 (Windows NT 6.1; WOW64)\\\n",
    "            AppleWebKit/537.36 (KHTML, like Gecko) Chrome/45.0.2454.101\\\n",
    "            Safari/537.36', }\n",
    "\n",
    "htmlFile = requests.get('https://tw.news.yahoo.com/', headers = headers)\n",
    "\n",
    "try:\n",
    "    htmlFile.raise_for_status()                             # 驗證網頁是否下載成功                      \n",
    "    print(\"Download Success\")\n",
    "except HTTPError as e: \n",
    "    print(e)\n",
    "    \n",
    "objSoup = bs4.BeautifulSoup(htmlFile.text, 'lxml')\n",
    "headline_news = objSoup.find_all('a', class_ = 'Whs')\n",
    "\n",
    "for h in headline_news:\n",
    "#     print('焦點新聞: ' + h.text)\n",
    "#     print('新聞網址: ' + h.get('herf'))\n",
    "    print(h) \n",
    "    print('...')"
   ]
  },
  {
   "cell_type": "code",
   "execution_count": null,
   "metadata": {},
   "outputs": [],
   "source": []
  },
  {
   "cell_type": "code",
   "execution_count": null,
   "metadata": {},
   "outputs": [],
   "source": []
  }
 ],
 "metadata": {
  "kernelspec": {
   "display_name": "Python 3",
   "language": "python",
   "name": "python3"
  },
  "language_info": {
   "codemirror_mode": {
    "name": "ipython",
    "version": 3
   },
   "file_extension": ".py",
   "mimetype": "text/x-python",
   "name": "python",
   "nbconvert_exporter": "python",
   "pygments_lexer": "ipython3",
   "version": "3.7.6"
  }
 },
 "nbformat": 4,
 "nbformat_minor": 4
}
