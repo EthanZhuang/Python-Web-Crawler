{
 "cells": [
  {
   "cell_type": "markdown",
   "metadata": {},
   "source": [
    "先 使用 headers\n",
    "爬網站資訊，[FileLAb](http://ip.filefab.com/index.php)\n",
    "擷取我們要的內容Tag CSS\n",
    "輸出"
   ]
  },
  {
   "cell_type": "code",
   "execution_count": 4,
   "metadata": {},
   "outputs": [
    {
     "name": "stdout",
     "output_type": "stream",
     "text": [
      "Plz type in the url: 4141\n",
      "有幾個 ip: 4\n",
      "Your IP address: 220.138.50.102\n",
      "IP Address:  220.138.50.102\n",
      "City:  Taoyuan District\n"
     ]
    }
   ],
   "source": [
    "import re\n",
    "from bs4 import BeautifulSoup\n",
    "import requests\n",
    "\n",
    "def split_func(object):\n",
    "    data_split = object.getText().split(':')\n",
    "    return data_split[1].strip() \n",
    "    \n",
    "def scraping_func(url):\n",
    "    # 使用自己的 IP\n",
    "    headers = { 'User-Agent': 'Mozilla/5.0 (Windows NT 10.0; Win64; x64)\\\n",
    "                AppleWebKit/537.36 (KHTML, like Gecko) Chrome/85.0.4183.83\\\n",
    "                Safari/537.36', }\n",
    "\n",
    "    url = 'http://ip.filefab.com/index.php'\n",
    "    htmlFile = requests.get(url, headers = headers)\n",
    "    objSoup = BeautifulSoup(htmlFile.text, 'lxml')\n",
    "    return objSoup\n",
    "\n",
    "\n",
    "url = input('Plz type in the url: ')\n",
    "objSoup = scraping_func(url)\n",
    "\n",
    "# ===============================================\n",
    "# 找 IP Tag & Class\n",
    "ipTag = objSoup.find_all('div', class_ = 'notediv')\n",
    "print('有幾個 ip:', len(ipTag))\n",
    "ip = ipTag[0].find('h1', id = 'ipd')\n",
    "print(ip.getText())\n",
    "\n",
    "# 只得到 IP address，不會有 \"Your IP address:\"\n",
    "# split_tag = ':'\n",
    "# data_split = ip.getText().split(split_tag)\n",
    "# your_ip = data_split[1].strip()\n",
    "\n",
    "your_ip = split_func(ip)\n",
    "print('IP Address: ', your_ip)\n",
    "\n",
    "# ===============================================\n",
    "# City\n",
    "cityTag = objSoup.find('p', id = 'city')\n",
    "city = split_func(cityTag)\n",
    "# print(city.getText())\n",
    "print('City: ', city)"
   ]
  },
  {
   "cell_type": "code",
   "execution_count": null,
   "metadata": {},
   "outputs": [],
   "source": []
  }
 ],
 "metadata": {
  "kernelspec": {
   "display_name": "Python 3",
   "language": "python",
   "name": "python3"
  },
  "language_info": {
   "codemirror_mode": {
    "name": "ipython",
    "version": 3
   },
   "file_extension": ".py",
   "mimetype": "text/x-python",
   "name": "python",
   "nbconvert_exporter": "python",
   "pygments_lexer": "ipython3",
   "version": "3.7.6"
  }
 },
 "nbformat": 4,
 "nbformat_minor": 4
}
