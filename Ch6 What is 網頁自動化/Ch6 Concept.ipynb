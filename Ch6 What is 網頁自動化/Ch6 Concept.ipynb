{
 "cells": [
  {
   "cell_type": "markdown",
   "metadata": {},
   "source": [
    "Objective\n",
    "===\n",
    "不使用瀏覽器開啟網頁\n",
    "\n",
    "## Resources\n",
    "\n",
    "**圖片顯示**\n",
    "1. [OpenCV basic techniques of read and show images](https://blog.gtwang.org/programming/opencv-basic-image-read-and-write-tutorial/)\n",
    "\n",
    "**Scrapy爬蟲和資料處理**\n",
    "1. [IT邦 - 鐵人30天](https://ithelp.ithome.com.tw/users/20107514/ironman/1919?page=1)\n",
    "\n",
    "2. [httpbin](https://httpbin.org/#/Images/get_image_jpeg) \n",
    "\n",
    "**SyntaxError: EOL...**\n",
    "\n",
    "[Solution - stackoverflow](https://stackoverflow.com/questions/3561691/python-syntaxerror-eol-while-scanning-string-literal)\n",
    "\n",
    "**Webtachniques**\n",
    "\n",
    "[爬蟲常用技巧](https://titangene.github.io/article/python-crawler-note.html)\n",
    "\n",
    "**去除 string 前後空格**\n",
    "\n",
    "[Removes all the whitespace in a string - stackoverflow](https://stackoverflow.com/questions/8270092/remove-all-whitespace-in-a-string)\n",
    "\n",
    "## Problem \n",
    "14 放圖片 5-13\n"
   ]
  },
  {
   "cell_type": "markdown",
   "metadata": {},
   "source": [
    "## 1. hashlib 模組\n",
    "由演算法將**數據或資料**轉成一個固定長度值 Hash Value (雜湊值、哈希值)<br>\n",
    "演算法: MD5、SHA1、SHA224、SHA256...etc.\n",
    "\n",
    "### MD5 (Message-Degist Algorithm 5): ```md5()```\n",
    "訊息摘要演算法，將數據轉換產生一個 hash value\n",
    "\n",
    "### SHA1(Secure Hash Algorithm): ```sha1()```\n",
    "安全哈希演算法，應用在數位簽章\n",
    "\n",
    "使用 md5() 方法計算中文/ 英文資料的哈希值:\n",
    "hashlib, md5()、updata()、digest()、hexdigest()。可以將**二進位**的數據文件轉乘 hash value\n",
    "\n",
    "### ```hashlib()```library\n",
    "**md5():** 建立 md5() 方法的物件<br>\n",
    "**updata():** 更新數據文件內容<br>\n",
    "**digest():** 將數據文件轉成 hash value<br>\n",
    "**hexdigest():** 將數據文件轉成 16 進位的 hash value<br>\n"
   ]
  },
  {
   "cell_type": "code",
   "execution_count": 4,
   "metadata": {},
   "outputs": [
    {
     "name": "stdout",
     "output_type": "stream",
     "text": [
      "What inside the data:  <md5 HASH object @ 0x0000020337CD3420>\n",
      "Hash Value         =  b'\\xa9\\x9b\\x82\\xd5_\\x909\\xe7<2\\xbe\\x18\\xfb\\x89V\\xe8'\n",
      "Hash Value(16進位) =  a99b82d55f9039e73c32be18fb8956e8\n",
      "<class '_hashlib.HASH'>\n",
      "<class 'str'>\n"
     ]
    }
   ],
   "source": [
    "# ch6_1.py\n",
    "import hashlib\n",
    "\n",
    "data = hashlib.md5()                                # 建立data物件\n",
    "# 轉換成二進位字串\n",
    "data.update(b'Ming-Chi Institute of Technology')    # 更新data物件內容\n",
    "\n",
    "print('What inside the data: ', data)\n",
    "print('Hash Value         = ', data.digest())\n",
    "print('Hash Value(16進位) = ', data.hexdigest())\n",
    "print(type(data))                                   # 列出data資料型態\n",
    "print(type(data.hexdigest()))                       # 列出哈希值資料型態"
   ]
  },
  {
   "cell_type": "markdown",
   "metadata": {},
   "source": [
    "## 轉換中文 hash value: 要加上 encoding = 'utf-8'\n",
    "```python\n",
    "data.update('明志科技大學')\n",
    "# Unicode-objects must be encoded before hashing\n",
    "```"
   ]
  },
  {
   "cell_type": "code",
   "execution_count": 17,
   "metadata": {},
   "outputs": [
    {
     "name": "stdout",
     "output_type": "stream",
     "text": [
      "沒學校:  b'\\xd4\\x1d\\x8c\\xd9\\x8f\\x00\\xb2\\x04\\xe9\\x80\\t\\x98\\xec\\xf8B~'\n",
      "有學校:  b'\\x14\\x06f\\xb07y\\xa85^lT\\xd3M\\xf8w\\x9f'\n",
      "Hash Value         =  b'\\x14\\x06f\\xb07y\\xa85^lT\\xd3M\\xf8w\\x9f'\n",
      "Hash Value(16進位) =  140666b03779a8355e6c54d34df8779f\n",
      "<class '_hashlib.HASH'>\n",
      "<class 'str'>\n"
     ]
    }
   ],
   "source": [
    "import hashlib\n",
    "\n",
    "data = hashlib.md5()\n",
    "print('沒學校: ', data.digest())\n",
    "school = '明志科技大學'\n",
    "data.update(school.encode('utf-8'))\n",
    "\n",
    "try:\n",
    "#     data.update('明志科技大學')\n",
    "    data.update(school.encode('utf-8'))\n",
    "    print('有學校: ', data.digest())\n",
    "except AttributeError:\n",
    "    print(data.digest())\n",
    "\n",
    "print('Hash Value         = ', data.digest())\n",
    "print('Hash Value(16進位) = ', data.hexdigest())\n",
    "print(type(data))                                   # 列出data資料型態\n",
    "print(type(data.hexdigest()))                       # 列出哈希值資料型態\n"
   ]
  },
  {
   "cell_type": "markdown",
   "metadata": {},
   "source": [
    "## 2. 計算 Hash value\n",
    "如果想要計算一個檔案的哈希值，可以使用二進位方式讀取檔案```('rb')```<br>\n",
    "再將讀取完的檔案內容放進 ```md5()```<br>\n"
   ]
  },
  {
   "cell_type": "code",
   "execution_count": 24,
   "metadata": {},
   "outputs": [
    {
     "name": "stdout",
     "output_type": "stream",
     "text": [
      "Hash value =  b'h\\xf1$*\\xdf\\xe4\\xf4\\xcb\\x0e*\\xac&K\\xa5r\\xd7'\n",
      "Hash Value(16進位) =  68f1242adfe4f4cb0e2aac264ba572d7\n",
      "<class '_hashlib.HASH'>\n",
      "<class 'str'>\n"
     ]
    }
   ],
   "source": [
    "import hashlib\n",
    "\n",
    "# 建立 data 物件\n",
    "data = hashlib.md5()\n",
    "filename = 'data6_3.txt'\n",
    "\n",
    "# 以二進位方式讀取檔案，不能使用 encode = 'utf-8'\n",
    "# 因為 'bytes' object has no attribute 'encode'\n",
    "with open(filename, 'rb') as fn:\n",
    "    btxt = fn.read()\n",
    "    data.update(btxt)\n",
    "\n",
    "# 證明裏頭的文字可以轉換\n",
    "print('Hash value = ', data.digest())\n",
    "print('Hash Value(16進位) = ', data.hexdigest())\n",
    "print(type(data))\n",
    "print(type(data.hexdigest()))"
   ]
  },
  {
   "cell_type": "markdown",
   "metadata": {},
   "source": [
    "## 3. 使用 sha1() 方法計算哈希值"
   ]
  },
  {
   "cell_type": "code",
   "execution_count": 25,
   "metadata": {},
   "outputs": [
    {
     "name": "stdout",
     "output_type": "stream",
     "text": [
      "What inside the data:  <sha1 HASH object @ 0x0000020339505120>\n",
      "Hash Value         =  b'\\xfc\\xda1\\xca@\\xbe\\xc3\\xa0A\\xa4\\xb7*\\xc3r\\xb9\\x1d\\xd9\\xaa\\xab\\xde'\n",
      "Hash Value(16進位) =  fcda31ca40bec3a041a4b72ac372b91dd9aaabde\n",
      "<class '_hashlib.HASH'>\n",
      "<class 'str'>\n"
     ]
    }
   ],
   "source": [
    "# ch6_1.py\n",
    "import hashlib\n",
    "\n",
    "data = hashlib.sha1()                                # 建立data物件\n",
    "# 轉換成二進位字串\n",
    "data.update(b'Ming-Chi Institute of Technology')    # 更新data物件內容\n",
    "\n",
    "print('What inside the data: ', data)\n",
    "print('Hash Value         = ', data.digest())\n",
    "print('Hash Value(16進位) = ', data.hexdigest())\n",
    "print(type(data))                                   # 列出data資料型態\n",
    "print(type(data.hexdigest()))                       # 列出哈希值資料型態"
   ]
  },
  {
   "cell_type": "markdown",
   "metadata": {},
   "source": [
    "## 4. 認識作業系統(Win 10, Apple OSX) 可以使用的 Hash algorithm(```hashlib.algorithms_available```)"
   ]
  },
  {
   "cell_type": "code",
   "execution_count": 34,
   "metadata": {},
   "outputs": [
    {
     "name": "stdout",
     "output_type": "stream",
     "text": [
      "{'sha256', 'shake_128', 'sha224', 'sha3_224', 'blake2b', 'sha3_512', 'sha3_384', 'blake2s', 'sha3_256', 'sha512', 'md5', 'shake_256', 'sha1', 'sha384'}\n"
     ]
    }
   ],
   "source": [
    "import hashlib\n",
    "\n",
    "# 確認自己系統上可以使用甚麼 Hash Algorithm\n",
    "print(hashlib.algorithms_available)"
   ]
  },
  {
   "cell_type": "markdown",
   "metadata": {},
   "source": [
    "## 5. 認識跨作業系統(Win 10, Apple OSX) 可以使用的 Hash algorithm(```hashlib.algorithms_guaranteed```)"
   ]
  },
  {
   "cell_type": "code",
   "execution_count": 1,
   "metadata": {},
   "outputs": [
    {
     "name": "stdout",
     "output_type": "stream",
     "text": [
      "{'sha512', 'md5', 'sha224', 'sha3_256', 'sha3_224', 'shake_256', 'sha384', 'blake2s', 'sha256', 'shake_128', 'sha3_384', 'sha3_512', 'sha1', 'blake2b'}\n"
     ]
    }
   ],
   "source": [
    "import hashlib\n",
    "\n",
    "# 確認跨平台可以使用甚麼 Hash Algorithm\n",
    "print(hashlib.algorithms_guaranteed)"
   ]
  },
  {
   "cell_type": "markdown",
   "metadata": {},
   "source": []
  },
  {
   "cell_type": "code",
   "execution_count": 1,
   "metadata": {},
   "outputs": [
    {
     "name": "stdout",
     "output_type": "stream",
     "text": [
      "The Zen of Python, by Tim Peters\n",
      "\n",
      "Beautiful is better than ugly.\n",
      "Explicit is better than implicit.\n",
      "Simple is better than complex.\n",
      "Complex is better than complicated.\n",
      "Flat is better than nested.\n",
      "Sparse is better than dense.\n",
      "Readability counts.\n",
      "Special cases aren't special enough to break the rules.\n",
      "Although practicality beats purity.\n",
      "Errors should never pass silently.\n",
      "Unless explicitly silenced.\n",
      "In the face of ambiguity, refuse the temptation to guess.\n",
      "There should be one-- and preferably only one --obvious way to do it.\n",
      "Although that way may not be obvious at first unless you're Dutch.\n",
      "Now is better than never.\n",
      "Although never is often better than *right* now.\n",
      "If the implementation is hard to explain, it's a bad idea.\n",
      "If the implementation is easy to explain, it may be a good idea.\n",
      "Namespaces are one honking great idea -- let's do more of those!\n"
     ]
    }
   ],
   "source": [
    "import this"
   ]
  },
  {
   "cell_type": "code",
   "execution_count": null,
   "metadata": {},
   "outputs": [],
   "source": []
  }
 ],
 "metadata": {
  "kernelspec": {
   "display_name": "Python 3",
   "language": "python",
   "name": "python3"
  },
  "language_info": {
   "codemirror_mode": {
    "name": "ipython",
    "version": 3
   },
   "file_extension": ".py",
   "mimetype": "text/x-python",
   "name": "python",
   "nbconvert_exporter": "python",
   "pygments_lexer": "ipython3",
   "version": "3.7.6"
  }
 },
 "nbformat": 4,
 "nbformat_minor": 4
}
