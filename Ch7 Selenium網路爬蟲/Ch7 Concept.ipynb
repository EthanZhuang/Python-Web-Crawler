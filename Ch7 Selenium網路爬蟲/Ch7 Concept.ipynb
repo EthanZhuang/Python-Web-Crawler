{
 "cells": [
  {
   "cell_type": "markdown",
   "metadata": {},
   "source": [
    "Objective\n",
    "===\n",
    "不使用瀏覽器開啟網頁\n",
    "\n",
    "## Resources\n",
    "\n",
    "**Selenium - HTML元素**\n",
    "\n",
    "[尋找 HTML 元素](https://chercher.tech/python/webelement-locator)\n",
    "\n",
    "## Problem "
   ]
  },
  {
   "cell_type": "markdown",
   "metadata": {},
   "source": [
    "## 1. Python + Selenuim 驅動部分\n",
    "此處我是使用 Chrome 瀏覽器，可以上 Google 上搜尋<font color = 'red'>ChromeDriver- WebDriver for Chrome </font> <br> -[ChromeDriver](https://chromedriver.chromium.org/downloads) 並下載\n",
    "\n",
    "我將 chromedriver.exe 放置在資料夾\"D:\\geckodriver\"，資料夾是隨意設置的"
   ]
  },
  {
   "cell_type": "code",
   "execution_count": 8,
   "metadata": {},
   "outputs": [
    {
     "name": "stdout",
     "output_type": "stream",
     "text": [
      "<class 'selenium.webdriver.chrome.webdriver.WebDriver'>\n"
     ]
    }
   ],
   "source": [
    "from selenium import webdriver\n",
    "\n",
    "# Driver檔案路徑 = driverpath\n",
    "driverPath = 'D:\\geckodriver\\chromedriver.exe'\n",
    "# 將參數 driverpath 當作參數設在 webdriver.Chrome 內\n",
    "browser = webdriver.Chrome(executable_path = driverPath)\n",
    "# 輸出 broswer 的型態\n",
    "print(type(browser))"
   ]
  },
  {
   "cell_type": "markdown",
   "metadata": {},
   "source": [
    "## 2. 擷取網頁\n",
    "獲得 browswer 物件後，可以使用 get() 讓瀏覽器連上網頁\n",
    "\n",
    "```python\n",
    "# 利用 get() method 獲得網頁資訊\n",
    "a = broswer.get(url)\n",
    "\n",
    "# 利用 get() method 獲得網頁資訊\n",
    "a = broswer.get(url)\n",
    "\n",
    "# a 內只有 None\n",
    "print(a)\n",
    "# 列印出 browser 內的 html資訊 \n",
    "print(broswer.page_source)\n",
    "```\n",
    "這裡比較特別， a 裡面沒任何東西，而想要知道 html 等相關資訊，需要利用browser.page_source，而 browser.get() 會打開網頁"
   ]
  },
  {
   "cell_type": "code",
   "execution_count": null,
   "metadata": {},
   "outputs": [],
   "source": [
    "from selenium import webdriver\n",
    "\n",
    "# Driver檔案路徑 = driverpath\n",
    "driverPath = 'D:\\geckodriver\\chromedriver.exe'\n",
    "# 將參數 driverpath 當作參數設在 webdriver.Chrome 內\n",
    "broswer = webdriver.Chrome(executable_path = driverPath)\n",
    "\n",
    "# 目標網頁的 url\n",
    "url = 'http://aaa.24ht.com.tw'\n",
    "# 利用 get() method 獲得網頁資訊\n",
    "a = broswer.get(url)\n",
    "\n",
    "# a 內只有 None\n",
    "print(a, '\\n')\n",
    "# 列印出 browser 內的網頁原始碼(html)\n",
    "print(broswer.page_source)"
   ]
  },
  {
   "cell_type": "markdown",
   "metadata": {},
   "source": [
    "## 3. 常見的 Webdrivver 屬性:\n",
    "1. name: 瀏覽器名稱\n",
    "2. title: 網頁標題\n",
    "3. page_source: 網頁的原始碼\n",
    "4. current_url: 目前的網址\n",
    "5. session_id: 網頁連線id\n",
    "6. capabilities: 瀏覽器功能設定\n",
    "\n",
    "### 取得瀏覽器的位置與大小資料(字典形式)\n",
    "1. get_window_position(): 取得瀏覽器視窗左上角位置\n",
    "2. set_window_position(): 設定(x,y)為瀏覽器視窗左上角位置\n",
    "3. get_window_size(): 取得瀏覽器視窗大小\n",
    "4. set_window_size(x,y): 設定 (x,y)為瀏覽器視窗大小\n",
    "5. maximize_window(): 設定瀏覽器視窗最大化\n"
   ]
  },
  {
   "cell_type": "code",
   "execution_count": 1,
   "metadata": {},
   "outputs": [
    {
     "name": "stdout",
     "output_type": "stream",
     "text": [
      "網頁原始碼:\n",
      "  <html><head>\n",
      "   <meta charset=\"utf-8\">\n",
      "   <title>洪錦魁著作</title>\n",
      "   <style>\n",
      "      h1#author { width:400px; height:50px; text-align:center;\n",
      "\t     background:linear-gradient(to right,yellow,green);\n",
      "      }\n",
      "\t  h1#content { width:400px; height:50px;\n",
      "\t\t background:linear-gradient(to right,yellow,red); \n",
      "      }\n",
      "      section { background:linear-gradient(to right bottom,yellow,gray); }\n",
      "   </style>\n",
      "</head>\n",
      "<body>\n",
      "<h1 id=\"author\">洪錦魁</h1>\n",
      "<img src=\"hung.jpg\" width=\"100\">\n",
      "<section>\n",
      "   <h1 id=\"content\">一個人的極境旅行 - 南極大陸北極海</h1>\n",
      "   <p>2015/2016年<strong>洪錦魁</strong>一個人到南極</p>\n",
      "   <img src=\"travel.jpg\" width=\"300\" <=\"\" section=\"\">\n",
      "<section>\n",
      "   <h1 id=\"content\">HTML5+CSS3王者歸來</h1>\n",
      "   <p>本書講解網頁設計使用HTML5+CSS3</p>\n",
      "   <img src=\"html5.jpg\" width=\"300\">\n",
      "</section>\n",
      "\n",
      "</section></body></html>\n",
      "\n",
      "網頁標題:  洪錦魁著作\n",
      "\n",
      "瀏覽器名稱:  chrome\n",
      "\n",
      "網頁目前的網址:  http://aaa.24ht.com.tw/\n",
      "\n",
      "網頁連線id:  bc60566e612c69bceee169f3b26aa7d9\n",
      "\n",
      "瀏覽器功能設定:  {'acceptInsecureCerts': False, 'browserName': 'chrome', 'browserVersion': '85.0.4183.102', 'chrome': {'chromedriverVersion': '85.0.4183.87 (cd6713ebf92fa1cacc0f1a598df280093af0c5d7-refs/branch-heads/4183@{#1689})', 'userDataDir': 'C:\\\\Users\\\\user\\\\AppData\\\\Local\\\\Temp\\\\scoped_dir2248_1003152296'}, 'goog:chromeOptions': {'debuggerAddress': 'localhost:52071'}, 'networkConnectionEnabled': False, 'pageLoadStrategy': 'normal', 'platformName': 'windows', 'proxy': {}, 'setWindowRect': True, 'strictFileInteractability': False, 'timeouts': {'implicit': 0, 'pageLoad': 300000, 'script': 30000}, 'unhandledPromptBehavior': 'dismiss and notify', 'webauthn:virtualAuthenticators': True}\n"
     ]
    }
   ],
   "source": [
    "from selenium import webdriver \n",
    "\n",
    "# Driver檔案路徑 = driverpath\n",
    "driverPath = 'D:\\geckodriver\\chromedriver.exe'\n",
    "# 將參數 driverpath 當作參數設在 webdriver.Chrome 內\n",
    "broswer = webdriver.Chrome(executable_path = driverPath)\n",
    "\n",
    "# 目標網頁的 url\n",
    "url = 'http://aaa.24ht.com.tw'\n",
    "# 利用 get() method 獲得網頁資訊\n",
    "broswer.get(url)\n",
    "\n",
    "# Webdriver 屬性\n",
    "print('網頁原始碼:\\n ', broswer.page_source)\n",
    "print('\\n網頁標題: ', broswer.title)\n",
    "print('\\n瀏覽器名稱: ', broswer.name)\n",
    "print('\\n網頁目前的網址: ', broswer.current_url)\n",
    "print('\\n網頁連線id: ', broswer.session_id)\n",
    "print('\\n瀏覽器功能設定: ', broswer.capabilities)"
   ]
  },
  {
   "cell_type": "code",
   "execution_count": 4,
   "metadata": {},
   "outputs": [
    {
     "name": "stdout",
     "output_type": "stream",
     "text": [
      "取得瀏覽器視窗左上角位置:  {'x': 9, 'y': 9}\n",
      "\n",
      "設定(x,y)為瀏覽器視窗左上角位置:  {'x': 9, 'y': 9}\n",
      "\n",
      "取得瀏覽器視窗大小:  {'width': 1051, 'height': 806}\n",
      "\n",
      "設定瀏覽器視窗最大化:  None\n"
     ]
    }
   ],
   "source": [
    "from selenium import webdriver \n",
    "\n",
    "# Driver檔案路徑 = driverpath\n",
    "driverPath = 'D:\\geckodriver\\chromedriver.exe'\n",
    "# 將參數 driverpath 當作參數設在 webdriver.Chrome 內\n",
    "broswer = webdriver.Chrome(executable_path = driverPath)\n",
    "\n",
    "# 目標網頁的 url\n",
    "url = 'http://aaa.24ht.com.tw'\n",
    "# 利用 get() method 獲得網頁資訊\n",
    "broswer.get(url)\n",
    "\n",
    "print('取得瀏覽器視窗左上角位置: ', broswer.get_window_position())\n",
    "print('\\n設定(x,y)為瀏覽器視窗左上角位置: ', broswer.get_window_position())\n",
    "print('\\n取得瀏覽器視窗大小: ', broswer.get_window_size())\n",
    "print('\\n設定 (x,y)為瀏覽器視窗大小: ', broswer.set_window_size(width = 2000, height = 1000))\n",
    "print('\\n設定瀏覽器視窗最大化: ', broswer.maximize_window())"
   ]
  },
  {
   "cell_type": "markdown",
   "metadata": {},
   "source": [
    "## 每隔 5秒瀏覽一個目標網站"
   ]
  },
  {
   "cell_type": "code",
   "execution_count": 9,
   "metadata": {},
   "outputs": [],
   "source": [
    "# ch7_4_3.py\n",
    "from selenium import webdriver\n",
    "import time\n",
    "\n",
    "# 目標 3個網站\n",
    "urls = ['http://aaa.24ht.com.tw',\n",
    "        'http://www.mcut.edu.tw',\n",
    "        'https://www.youtube.com/?hl=zh-TW&gl=TW']\n",
    "\n",
    "# Dirverpath = 檔案路徑 \n",
    "driverPath = 'D:\\geckodriver\\chromedriver.exe'\n",
    "# 將參數 driverpath 當作參數設在 webdriver.Chrome 內\n",
    "browser = webdriver.Chrome(executable_path = driverPath)\n",
    "\n",
    "for url in urls:\n",
    "    # 網頁下載至瀏覽器\n",
    "    browser.get(url)                \n",
    "    time.sleep(5)\n",
    "    \n",
    "# 5秒後會關閉站並打開\n",
    "browser.quit()"
   ]
  },
  {
   "cell_type": "markdown",
   "metadata": {},
   "source": [
    "## 4. 尋找 HTML 文件的元素\n",
    "\n",
    "可以使用很多方法獲得 HTML 文件元素(WebElement)，下列方法```find_element_*```可以找到第一個符合的元素，而```find_elements_*```可以找到所有相符的元素，並用 list 傳回\n",
    "\n",
    "下面範例因為找不到```為 main 的元素```，所以程式結束。"
   ]
  },
  {
   "cell_type": "code",
   "execution_count": 3,
   "metadata": {},
   "outputs": [
    {
     "name": "stdout",
     "output_type": "stream",
     "text": [
      "<selenium.webdriver.remote.webelement.WebElement (session=\"92f72c70a7e444345b36efbc771166ed\", element=\"acb6569a-42cc-4350-8892-59b69f3ba6d7\")> \n",
      "\n",
      "沒有找到符合的元素\n"
     ]
    }
   ],
   "source": [
    "from selenium import webdriver \n",
    "\n",
    "# Driver檔案路徑 = driverpath\n",
    "driverPath = 'D:\\geckodriver\\chromedriver.exe'\n",
    "# 將參數 driverpath 當作參數設在 webdriver.Chrome 內\n",
    "browser = webdriver.Chrome(executable_path = driverPath)\n",
    "\n",
    "# 目標網頁的 url\n",
    "url = 'http://aaa.24ht.com.tw'\n",
    "# 利用 get() method 獲得網頁資訊\n",
    "browser.get(url)\n",
    "\n",
    "try:\n",
    "    # 找尋第一個 id 為 main 的元素\n",
    "    implicit_tag = browser.find_element_by_id('author')\n",
    "    print(implicit_tag, '\\n')\n",
    "    tag = browser.find_element_by_id('main')\n",
    "    print(tag.tag_name)\n",
    "except:\n",
    "    print('沒有找到符合的元素')"
   ]
  },
  {
   "cell_type": "markdown",
   "metadata": {},
   "source": [
    "## 抓取 HTML 文件不同的元素\n",
    "```find_element_by_*``` ```find_elements_by_*```"
   ]
  },
  {
   "cell_type": "code",
   "execution_count": 9,
   "metadata": {},
   "outputs": [
    {
     "name": "stdout",
     "output_type": "stream",
     "text": [
      "網頁標題內容是 =  洪錦魁著作\n",
      "\n",
      "標籤名稱 = h1, 內容是 = 洪錦魁 \n",
      "\n",
      "標籤名稱 = h1, 內容是 = 一個人的極境旅行 - 南極大陸北極海 \n",
      "標籤名稱 = h1, 內容是 = HTML5+CSS3王者歸來 \n",
      "\n",
      "標籤名稱 = p, 內容是 = 2015/2016年洪錦魁一個人到南極 \n",
      "標籤名稱 = p, 內容是 = 本書講解網頁設計使用HTML5+CSS3 \n",
      "\n",
      "標籤名稱 = img, 內容是 = http://aaa.24ht.com.tw/hung.jpg \n",
      "標籤名稱 = img, 內容是 = http://aaa.24ht.com.tw/travel.jpg \n",
      "標籤名稱 = img, 內容是 = http://aaa.24ht.com.tw/html5.jpg \n"
     ]
    }
   ],
   "source": [
    "from selenium import webdriver\n",
    "\n",
    "# Driver檔案路徑 = driverpath\n",
    "driverPath = 'D:\\geckodriver\\chromedriver.exe'\n",
    "# 將參數 driverpath 當作參數設在 webdriver.Chrome 內\n",
    "browser = webdriver.Chrome(executable_path = driverPath)\n",
    "\n",
    "# 目標網頁的 url\n",
    "url = 'http://aaa.24ht.com.tw'\n",
    "# 利用 get() method 獲得網頁資訊\n",
    "browser.get(url)\n",
    "\n",
    "print(\"網頁標題內容是 = \", browser.title)\n",
    "\n",
    "# 找 id = author，並回傳 tag 名稱， tag 內的內容\n",
    "tag2 = browser.find_element_by_id('author')             # 傳回<h1>\n",
    "print(\"\\n標籤名稱 = %s, 內容是 = %s \" % (tag2.tag_name, tag2.text))\n",
    "\n",
    "print()\n",
    "# 找 id = content 的元素，並回傳 tag list名稱， tag list內的內容\n",
    "tag3 = browser.find_elements_by_id('content')           # 傳回<h1>\n",
    "for t3 in tag3:\n",
    "    print(\"標籤名稱 = %s, 內容是 = %s \" % (t3.tag_name, t3.text))\n",
    "\n",
    "print()\n",
    "tag4 = browser.find_elements_by_tag_name('p')           # 傳回<p>\n",
    "for t4 in tag4:\n",
    "    print(\"標籤名稱 = %s, 內容是 = %s \" % (t4.tag_name, t4.text))\n",
    "\n",
    "print()\n",
    "tag5 = browser.find_elements_by_tag_name('img')         # 傳回<img>\n",
    "for t5 in tag5:\n",
    "    # src 為屬性(attribute)\n",
    "    print(\"標籤名稱 = %s, 內容是 = %s \" % (t5.tag_name, t5.get_attribute('src')))"
   ]
  },
  {
   "cell_type": "markdown",
   "metadata": {},
   "source": [
    "## 5. 相對路徑 Xpath 語法\n",
    "這裡介紹的是```HTML```元素，主要都會是結構樹的型態，應用於搜尋網站的節點和不同標籤的父子關係。\n",
    "\n",
    "範例HTML:\n",
    "```python\n",
    "<!doctype html>\n",
    "<html lang=\"zh-tw\">\n",
    "<head>\n",
    "   <title>洪錦魁著作</title>\n",
    "</head>\n",
    "<body>\n",
    "   <section class='book'>\n",
    "      <h1 class='booktitle'>Python王者歸來</h1>\n",
    "      <h4 class='author'>洪錦魁</h4>\n",
    "      <p class='year'>2019</p>\n",
    "      <p class='price'>1000</>\n",
    "   </section>\n",
    "</body>\n",
    "</html>\n",
    "```\n",
    "![](https://i.imgur.com/NOxiPqa.jpg)\n",
    "\n",
    "### 結構樹 - 節點(ElementTree - Node)\n",
    "現在我們要找結構樹的所有節點\n",
    "* **根節點(root node):**<br>\n",
    "```<html>```就是上面的根節點\n",
    "* **父節點(parent node):** <br>\n",
    "```<html>是<body>和<head>的父節點。<section>是<h1>、<h4>、<p>、<p>```的父節點\n",
    "* **子節點(children node):**<br>\n",
    "```<body>&<haed>```是```<html>```的子節點\n",
    "* **兄弟節點(sibling node):** <br>\n",
    "```<body>&<head>```有共同的父親節點```<html>```，所以彼此是兄弟節點。"
   ]
  },
  {
   "cell_type": "markdown",
   "metadata": {},
   "source": [
    "## 6.絕對路徑 & 相對路徑\n",
    "Xpath 的絕對路徑和相對路徑，其中\"\\\"代表絕對路徑符號，\"//\"代表相對路徑符號。而彼此可以混合著用。\n",
    "![](https://i.imgur.com/SSC3wp1.jpg)\n",
    "\n",
    "\n",
    "找出 tag = h4 的資料"
   ]
  },
  {
   "cell_type": "code",
   "execution_count": 8,
   "metadata": {},
   "outputs": [
    {
     "name": "stdout",
     "output_type": "stream",
     "text": [
      "洪錦魁\n",
      "洪錦魁\n",
      "洪錦魁\n",
      "洪錦魁\n"
     ]
    }
   ],
   "source": [
    "from selenium import webdriver \n",
    "\n",
    "# Driver檔案路徑 = driverpath\n",
    "driverPath = 'D:\\geckodriver\\chromedriver.exe'\n",
    "# 將參數 driverpath 當作參數設在 webdriver.Chrome 內\n",
    "browser = webdriver.Chrome(executable_path = driverPath)\n",
    "\n",
    "# 目標網頁的 url\n",
    "url = 'D:\\MIT Python\\Python practice\\Web_Crawler\\ch7\\h7_1.html'\n",
    "# 利用 get() method 獲得網頁資訊\n",
    "browser.get(url)\n",
    "\n",
    "# 第一個節點，tag = h4，利用 Xpath相對路徑\"//\"\n",
    "n1 = browser.find_element_by_xpath('//h4')\n",
    "print(n1.text)\n",
    "\n",
    "# 第二個節點，tag = h4，利用 Xpath相對路徑\"//\"搭配絕對路徑\"/\"\n",
    "n2 = browser.find_element_by_xpath('//body/section/h4')\n",
    "print(n2.text)\n",
    "\n",
    "# 第三個節點，tag = h4，利用 Xpath相對路徑\"//\"搭配絕對路徑\"/\"\n",
    "n3 = browser.find_element_by_xpath('//section/h4')\n",
    "print(n3.text)\n",
    "\n",
    "# 第四個節點，tag = h4，利用 Xpath相對路徑\"//\"搭配絕對路徑\"/\"，和省略的*\n",
    "n4 = browser.find_element_by_xpath('//body/*/h4')\n",
    "print(n4.text)            "
   ]
  },
  {
   "cell_type": "markdown",
   "metadata": {},
   "source": [
    "---\n",
    "找出 tag = p 的元素"
   ]
  },
  {
   "cell_type": "code",
   "execution_count": 13,
   "metadata": {},
   "outputs": [
    {
     "name": "stdout",
     "output_type": "stream",
     "text": [
      "2019\n"
     ]
    }
   ],
   "source": [
    "from selenium import webdriver\n",
    "\n",
    "# Driver檔案路徑 = driverpath\n",
    "driverPath = 'D:\\geckodriver\\chromedriver.exe'\n",
    "# 將參數 driverpath 當作參數設在 webdriver.Chrome 內\n",
    "browser = webdriver.Chrome(executable_path = driverPath)\n",
    "\n",
    "# 目標網頁的 url\n",
    "url = 'D:\\MIT Python\\Python practice\\Web_Crawler\\ch7\\h7_1.html'\n",
    "# 利用 get() method 獲得網頁資訊\n",
    "browser.get(url)\n",
    "\n",
    "# ch7\\h7_1.html 資料內有2個<p>，但是 n1 只會列印出第一個\n",
    "n1 = browser.find_element_by_xpath('//p')\n",
    "print(n1.text)"
   ]
  },
  {
   "cell_type": "markdown",
   "metadata": {},
   "source": [
    "## 索引爬取重複的元素\n",
    "上面程式只會爬ch7\\h7_1.html 資料的第一個```<p>```，但是 html 內有2個```<p>```。現在使用索引列出2個```<p>```"
   ]
  },
  {
   "cell_type": "code",
   "execution_count": 16,
   "metadata": {},
   "outputs": [
    {
     "name": "stdout",
     "output_type": "stream",
     "text": [
      "2019\n",
      "1000\n"
     ]
    }
   ],
   "source": [
    "from selenium import webdriver \n",
    "\n",
    "# Driver檔案路徑 = driverPath\n",
    "driverPath = 'D:\\geckodriver\\chromedriver.exe'\n",
    "# 將參數 driverpath 當作參數設在 webdriver.Chrome 內\n",
    "browser = webdriver.Chrome(executable_path = driverPath)\n",
    "\n",
    "# 目標網頁的 url\n",
    "url = 'D:\\MIT Python\\Python practice\\Web_Crawler\\ch7\\h7_1.html'\n",
    "# 利用 get() method 獲得網頁資訊\n",
    "browser.get(url)\n",
    "\n",
    "# 利用索引[1]、[2]獲取 p 內的元素\n",
    "n1 = browser.find_element_by_xpath('//p[1]')\n",
    "print(n1.text)\n",
    "# 利用相對路徑 & 相對路徑 + 絕對路徑\n",
    "# n2 = browser.find_element_by_xpath('//p[2]')\n",
    "n2 = browser.find_element_by_xpath('//section/p[2]')\n",
    "print(n2.text)"
   ]
  },
  {
   "cell_type": "markdown",
   "metadata": {},
   "source": [
    "## 7. xpath & 元素的屬性值(class = '屬性值')\n",
    "例如第一個```<p>```內有 class = 'year'，我們稱之為**屬性(attribute) **\n",
    "\n",
    "不論xpath內的相對路徑或絕對路徑，都能在html資料中，找到對應的屬性值\n",
    "```python\n",
    "# 利用不同的屬性值獲得元素值\n",
    "n1 = browser.find_element_by_xpath(\"//p[@class='year']\")\n",
    "# 利用相對路徑 & 相對路徑 + 絕對路徑\n",
    "n2 = browser.find_element_by_xpath(\"//section/p[@class='price']\")\n",
    "```"
   ]
  },
  {
   "cell_type": "code",
   "execution_count": 20,
   "metadata": {},
   "outputs": [
    {
     "name": "stdout",
     "output_type": "stream",
     "text": [
      "2019\n",
      "1000\n"
     ]
    }
   ],
   "source": [
    "from selenium import webdriver \n",
    "\n",
    "# Driver檔案路徑 = driverPath\n",
    "driverPath = 'D:\\geckodriver\\chromedriver.exe'\n",
    "# 將參數 driverpath 當作參數設在 webdriver.Chrome 內\n",
    "browser = webdriver.Chrome(executable_path = driverPath)\n",
    "\n",
    "# 目標網頁的 url\n",
    "url = 'D:\\MIT Python\\Python practice\\Web_Crawler\\ch7\\h7_1.html'\n",
    "# 利用 get() method 獲得網頁資訊\n",
    "browser.get(url)\n",
    "\n",
    "# 利用不同的屬性值獲得元素值\n",
    "n1 = browser.find_element_by_xpath(\"//p[@class='year']\")\n",
    "print(n1.text)\n",
    "# 利用相對路徑 & 相對路徑 + 絕對路徑\n",
    "# n2 = browser.find_element_by_xpath('//p[2]')\n",
    "n2 = browser.find_element_by_xpath(\"//section/p[@class='price']\")\n",
    "print(n2.text)"
   ]
  },
  {
   "cell_type": "markdown",
   "metadata": {},
   "source": [
    "## 8. get.attribute() & 獲取屬性值(attribute)\n",
    "相較於 h7_1.html 多了圖片 ```<img src='bookcover.jpg' width=50>```\n",
    "\n",
    "```python\n",
    "<!doctype html>\n",
    "<html lang=\"zh-tw\">\n",
    "<head>\n",
    "   <title>洪錦魁著作</title>\n",
    "</head>\n",
    "<body>\n",
    "   <section class='book'>\n",
    "      <h1 class='booktitle'>Python王者歸來</h1>\n",
    "      <h4 class='author'>洪錦魁</h4>\n",
    "      <img src='bookcover.jpg' width=50>\n",
    "      <p class='year'>2019</p>\n",
    "      <p class='price'>1000</>\n",
    "   </section>\n",
    "</body>\n",
    "</html>\n",
    "```\n",
    "\n",
    "我們現在要列出**圖片的完整路徑!**\n",
    "* 注意: get_attribute() 是一個方法，()內需要有 attribute 的名字，才知道要獲取誰的屬性值<br>\n",
    "get_attribute() missing 1 required positional argument: 'name'"
   ]
  },
  {
   "cell_type": "code",
   "execution_count": 24,
   "metadata": {},
   "outputs": [
    {
     "name": "stdout",
     "output_type": "stream",
     "text": [
      "file:///D:/MIT%20Python/Python%20practice/Web_Crawler/ch7/bookcover.jpg\n"
     ]
    }
   ],
   "source": [
    "from selenium import webdriver\n",
    "\n",
    "# Driver檔案路徑 = driverPath\n",
    "driverPath = 'D:\\geckodriver\\chromedriver.exe'\n",
    "# 將參數 driverpath 當作參數設在 webdriver.Chrome 內\n",
    "browser = webdriver.Chrome(executable_path = driverPath)\n",
    "\n",
    "# 目標網頁的 url\n",
    "url = 'D:\\MIT Python\\Python practice\\Web_Crawler\\ch7\\h7_2.html'\n",
    "# 利用 get() method 獲得網頁資訊\n",
    "browser.get(url)\n",
    "\n",
    "pict = browser.find_element_by_xpath(\"//img[@src = 'bookcover.jpg']\")\n",
    "print(pict.get_attribute('src'))\n",
    "# print(n1.get_attribute())"
   ]
  },
  {
   "cell_type": "markdown",
   "metadata": {},
   "source": [
    "## 找尋 h1 內的 ```<em>```元素\n",
    "當 ```<h1>```內有強調粗體/斜體的元素```<strong>```or```<em>```<br>\n",
    "EX: ```<h1 class='booktitle'><em>Python</em>王者歸來</h1>```\n",
    "\n",
    "學習如何抓取屬性:\n",
    "* get_attribute('textContent')\n",
    "* get_attribute('outHTML')\n",
    "* get_attribute('innerHTML')\n",
    "\n",
    "```python\n",
    "<!doctype html>\n",
    "<html lang=\"zh-tw\">\n",
    "<head>\n",
    "   <title>洪錦魁著作</title>\n",
    "</head>\n",
    "<body>\n",
    "   <section class='book'>\n",
    "      <h1 class='booktitle'><em>Python</em>王者歸來</h1>\n",
    "      <h4 class='author'>洪錦魁</h4>\n",
    "      <img src='bookcover.jpg' width=50>\n",
    "      <p class='year'>2019</p>\n",
    "      <p class='price'>1000</>\n",
    "   </section>\n",
    "</body>\n",
    "</html>\n",
    "```"
   ]
  },
  {
   "cell_type": "code",
   "execution_count": 41,
   "metadata": {},
   "outputs": [
    {
     "name": "stdout",
     "output_type": "stream",
     "text": [
      "em          :  Python\n",
      "h1          :  Python王者歸來\n",
      "textContent :  Python王者歸來\n",
      "innerHTML :  <em>Python</em>王者歸來\n",
      "outerHTML :  <h1 class=\"booktitle\"><em>Python</em>王者歸來</h1>\n"
     ]
    }
   ],
   "source": [
    "# ch7_7_6.py\n",
    "from selenium import webdriver\n",
    "\n",
    "# Driver檔案路徑 = driverPath\n",
    "driverPath = 'D:\\geckodriver\\chromedriver.exe'\n",
    "# 將參數 driverpath 當作參數設在 webdriver.Chrome 內\n",
    "browser = webdriver.Chrome(executable_path = driverPath)\n",
    "\n",
    "# 目標網頁的 url\n",
    "url = 'D:\\MIT Python\\Python practice\\Web_Crawler\\ch7\\h7_3.html'\n",
    "# 利用 get() method 獲得網頁資訊\n",
    "browser.get(url)\n",
    "\n",
    "# 找尋 h1 內的 <em> 元素\n",
    "n1 = browser.find_element_by_xpath(\"//h1/em\")\n",
    "print('em          : ', n1.text)\n",
    "n2 = browser.find_element_by_xpath(\"//h1\")\n",
    "print('h1          : ', n2.text)\n",
    "\n",
    "# textContent 屬性\n",
    "n3 = browser.find_element_by_xpath(\"//h1\")\n",
    "print('textContent : ', n3.get_attribute('textContent'))\n",
    "# 抓取內部的 tag，不包含外部的標籤\n",
    "n4 = browser.find_element_by_xpath(\"//h1\")\n",
    "print('innerHTML : ', n4.get_attribute('innerHTML'))\n",
    "# 抓取全部的外部tag，包含內部 tag\n",
    "n5 = browser.find_element_by_xpath(\"//h1\")\n",
    "print('outerHTML : ', n5.get_attribute('outerHTML'))"
   ]
  },
  {
   "cell_type": "markdown",
   "metadata": {},
   "source": [
    "## 9. contains() & 找出包含某一個字串的元素節點\n",
    "\n",
    "利用 contains() 找出\"深石\"元素節點，然後列印出此節點的 outerHTML 屬性。\n",
    "```python\n",
    "<!doctype html>\n",
    "<html lang=\"zh-tw\">\n",
    "<head>\n",
    "   <title>洪錦魁著作</title>\n",
    "</head>\n",
    "<body>\n",
    "   <div id='Computer'>\n",
    "      <h1 class='booktitle'>Python王者歸來</h1>\n",
    "      <p class='price'>1000</>\n",
    "      <div>\n",
    "         <a class='publisher' href='http://www.deepmind.com.tw'>深智</a>\n",
    "      </div>\n",
    "   </div>\n",
    "   <div id='Traveling'>\n",
    "      <h1 class='booktitle'>一個人的極境旅行</h1>\n",
    "      <p class='price'>500</>\n",
    "      <div>\n",
    "         <a class='publisher' href='http://www.deepstone.com.tw'>深石</a>\n",
    "      </div>\n",
    "   </div>\n",
    "</body>\n",
    "</html>\n",
    "```"
   ]
  },
  {
   "cell_type": "code",
   "execution_count": 35,
   "metadata": {},
   "outputs": [
    {
     "name": "stdout",
     "output_type": "stream",
     "text": [
      "深石\n",
      "outerHTML:  <a class=\"publisher\" href=\"http://www.deepstone.com.tw\">深石</a>\n",
      "HTML:  http://www.deepstone.com.tw/\n"
     ]
    }
   ],
   "source": [
    "from selenium import webdriver\n",
    "\n",
    "# Driver檔案路徑 = driverPath\n",
    "driverPath = 'D:\\geckodriver\\chromedriver.exe'\n",
    "# 將參數 driverpath 當作參數設在 webdriver.Chrome 內\n",
    "browser = webdriver.Chrome(executable_path = driverPath)\n",
    "\n",
    "# 目標網頁的 url\n",
    "url = 'D:\\MIT Python\\Python practice\\Web_Crawler\\ch7\\h7_4.html'\n",
    "# 利用 get() method 獲得網頁資訊\n",
    "browser.get(url)\n",
    "\n",
    "# 利用相對路徑 + contains(text(), 深石) 找尋包含'深石'的節點\n",
    "n1 = browser.find_element_by_xpath(\"//div[@id = 'Traveling']//a[contains(text(), 深石)]\")\n",
    "print(n1.text)\n",
    "print('outerHTML: ', n1.get_attribute('outerHTML'))\n",
    "print('HTML: ', n1.get_attribute('href'))"
   ]
  },
  {
   "cell_type": "markdown",
   "metadata": {},
   "source": [
    "## 10. 加入開啟網頁等待時間 & 不顯示get的瀏覽器(隱藏參數)\n",
    "\n",
    "隱藏參數: 未來程式執行時可以不開啟瀏覽器```headless.add_argument('headless')```\n",
    "```python\n",
    "# 加入隱藏參數於 Chrome 瀏覽器內\n",
    "headless = webdriver.ChromeOptions()\n",
    "# 設定瀏覽器隱藏參數(隱藏瀏覽器)\n",
    "headless.add_argument('headless')\n",
    "# 將參數 driverpath, options 當作參數設在 webdriver.Chrome 內\n",
    "browser = webdriver.Chrome(executable_path = driverPath , options = headless)\n",
    "```\n",
    "\n",
    "開啟網頁等待時間: 可以設定指定，等待網頁載入\n",
    "```python\n",
    "browser.implicitly_wait(seconds) \n",
    "```"
   ]
  },
  {
   "cell_type": "code",
   "execution_count": 40,
   "metadata": {},
   "outputs": [
    {
     "name": "stdout",
     "output_type": "stream",
     "text": [
      "深石\n",
      "outerHTML:  <a class=\"publisher\" href=\"http://www.deepstone.com.tw\">深石</a>\n",
      "HTML:  http://www.deepstone.com.tw/\n"
     ]
    }
   ],
   "source": [
    "from selenium import webdriver\n",
    "\n",
    "# Driver檔案路徑 = driverPath\n",
    "driverPath = 'D:\\geckodriver\\chromedriver.exe'\n",
    "# 加入隱藏參數於 Chrome 瀏覽器內\n",
    "headless = webdriver.ChromeOptions()\n",
    "# 設定瀏覽器隱藏參數(隱藏瀏覽器)\n",
    "headless.add_argument('headless')\n",
    "# 將參數 driverpath, options 當作參數設在 webdriver.Chrome 內\n",
    "browser = webdriver.Chrome(executable_path = driverPath , options = headless)\n",
    "\n",
    "\n",
    "# 目標網頁的 url\n",
    "url = 'D:\\MIT Python\\Python practice\\Web_Crawler\\ch7\\h7_4.html'\n",
    "# 加入等待網頁載入時間\n",
    "browser.implicitly_wait(10) \n",
    "# 利用 get() method 獲得網頁資訊\n",
    "browser.get(url)\n",
    "\n",
    "# 利用相對路徑 + contains(text(), 深石) 找尋包含'深石'的節點\n",
    "n1 = browser.find_element_by_xpath(\"//div[@id = 'Traveling']//a[contains(text(), 深石)]\")\n",
    "print(n1.text)\n",
    "print('outerHTML: ', n1.get_attribute('outerHTML'))\n",
    "print('HTML: ', n1.get_attribute('href'))"
   ]
  },
  {
   "cell_type": "markdown",
   "metadata": {},
   "source": [
    "## 11. click() 方法 & 用Python 控制點選超連結 \n",
    "click()，相當於點選我們從\"目標網頁\"找到的元素(網頁、圖片等...)\n",
    "\n",
    "\n",
    "題目: <br>\n",
    "下面，進入深至數據網頁，經過5秒後點選\"深智數位緣起\"超連結<br>\n",
    "**注意!!**\n",
    "可以試試看在網頁還在載入時，將網頁 full screen，和沒有 full screen的差別。"
   ]
  },
  {
   "cell_type": "code",
   "execution_count": 7,
   "metadata": {},
   "outputs": [
    {
     "name": "stdout",
     "output_type": "stream",
     "text": [
      "Type:  <class 'selenium.webdriver.remote.webelement.WebElement'>\n",
      "Object:  <selenium.webdriver.remote.webelement.WebElement (session=\"87e7e8acba9c3de4b0288271bf255354\", element=\"4fa61a00-95f0-448b-bc56-b227386ad1bc\")>\n",
      "Text:  深智數位緣起\n",
      "href:  https://deepmind.com.tw/home/%e6%b7%b1%e6%99%ba%e6%95%b8%e4%bd%8d%e7%b7%a3%e8%b5%b7\n"
     ]
    }
   ],
   "source": [
    "from selenium import webdriver\n",
    "import time\n",
    "\n",
    "# Driver檔案路徑 = driverPath\n",
    "driverPath = 'D:\\geckodriver\\chromedriver.exe'\n",
    "# 將參數 driverpath, options 當作參數設在 webdriver.Chrome 內\n",
    "browser = webdriver.Chrome(executable_path = driverPath)\n",
    "\n",
    "# 目標網頁的 url\n",
    "url = 'http://www.deepmind.com.tw'\n",
    "# 利用 get() method 獲得網頁資訊\n",
    "browser.get(url)\n",
    "\n",
    "# 回傳第一個完全相同text的 <a> 元素\n",
    "eleLink = browser.find_element_by_partial_link_text('深智數位緣起')\n",
    "print('Type: ', type(eleLink))\n",
    "print('Object: ', eleLink)\n",
    "# 得到 text 文字元素\n",
    "print('Text: ', eleLink.text)\n",
    "# 得到 href 網址\n",
    "print('href: ', eleLink.get_attribute('href'))\n",
    "# 暫停5秒\n",
    "time.sleep(5)\n",
    "\n",
    "# 點擊網頁連結，並打開網站\n",
    "eleLink.click()"
   ]
  },
  {
   "cell_type": "markdown",
   "metadata": {},
   "source": [
    "## 12. send_keys() & submit() ， 自動填寫表單、送出 \n",
    "\n",
    "### 分析 HTML 原始碼\n",
    "可以開啟網頁 HTML 原始檔案找尋```<input>```元素、id元素、或是name，然後使用 send_key()方法。填寫完後，使用```submit()```方法，將表單送出。\n",
    "\n",
    "```python\n",
    "# 找尋tag id = '關鍵字SchKey'\n",
    "txtBox = browser.find_element_by_id('關鍵字SchKey') \n",
    "# 輸入表單資料\n",
    "txtBox.send_keys('王永慶')\n",
    "# 暫停5秒\n",
    "time.sleep(5)\n",
    "# 送出表單\n",
    "txtBox.submit()\n",
    "```"
   ]
  },
  {
   "cell_type": "code",
   "execution_count": 11,
   "metadata": {},
   "outputs": [],
   "source": [
    "from selenium import webdriver\n",
    "import time\n",
    "\n",
    "# Driver檔案路徑 = driverPath\n",
    "driverPath = 'D:\\geckodriver\\chromedriver.exe'\n",
    "# 將參數 driverpath, options 當作參數設在 webdriver.Chrome 內\n",
    "browser = webdriver.Chrome(executable_path = driverPath)\n",
    "\n",
    "# 目標網頁的 url\n",
    "url = 'https://www.mcut.edu.tw/'\n",
    "# 利用 get() method 獲得/下載網頁資訊\n",
    "browser.get(url)\n",
    "\n",
    "# 傳回第一個 id = '關鍵字SchKey' 相符 id 的<>元素\n",
    "# txtBox = browser.find_element_by_id('關鍵字SchKey') \n",
    "\n",
    "# 傳回第一個 name = 'SchKey' 符 id 的<>元素，而不是 id = '關鍵字SchKey'\n",
    "txtBox = browser.find_element_by_name('SchKey') \n",
    "\n",
    "# 輸入表單資料\n",
    "txtBox.send_keys('王永慶')\n",
    "# 暫停5秒\n",
    "time.sleep(5)\n",
    "# 送出表單\n",
    "txtBox.submit()"
   ]
  },
  {
   "cell_type": "markdown",
   "metadata": {},
   "source": [
    "## 13. selenim.webdriver.common.keys & Python 處理使用網頁的特殊按鍵\n",
    "在觀看網頁時，我們可能需要滑動網頁 flip up and down, Python 提供模組讓我們做這些操作\n",
    "\n",
    "Keys 相關屬性，像是\n",
    "1. ```Enter``` / ```Return```: 對應鍵盤的Enter&Return\n",
    "2. ```PAGE_DOWN``` / ```PAGE_UP``` / ```HOME``` / ```END```: 相當於鍵盤的```PAGE_DOWN``` / ```PAGE_UP``` / ```HOME``` / ```END```\n",
    "3. ```UP``` / ```DOWN``` / ```LEFT``` / ```RIGHT```: 相當於鍵盤的上下左右\n",
    "\n",
    "Ex:\n",
    "```python \n",
    "from selenium.webdriver.common.keys import Keys\n",
    "# Keys 屬性\n",
    "*.send_keys(Keys.HOME)\n",
    "\n",
    "```\n",
    "\n",
    "### Example - 每隔3秒滑動網頁"
   ]
  },
  {
   "cell_type": "code",
   "execution_count": 13,
   "metadata": {},
   "outputs": [],
   "source": [
    "from selenium import webdriver \n",
    "from selenium.webdriver.common.keys import Keys\n",
    "import time\n",
    "\n",
    "# Driver檔案路徑 = driverPath\n",
    "driverPath = 'D:\\geckodriver\\chromedriver.exe'\n",
    "# 將參數 driverpath, options 當作參數設在 webdriver.Chrome 內\n",
    "browser = webdriver.Chrome(executable_path = driverPath)\n",
    "\n",
    "# 目標網頁的 url\n",
    "url = 'https://www.mcut.edu.tw/'\n",
    "# 利用 get() method 獲得/下載網頁資訊\n",
    "browser.get(url)\n",
    "\n",
    "# 傳回第一個 tag_name = 'body' 相符 tag name 的<>元素\n",
    "ele = browser.find_element_by_tag_name('body')\n",
    "time.sleep(3)\n",
    "ele.send_keys(Keys.PAGE_DOWN)       # 網頁捲動到下一頁\n",
    "time.sleep(3)\n",
    "ele.send_keys(Keys.END)             # 網頁捲動到最底端\n",
    "time.sleep(3)\n",
    "ele.send_keys(Keys.PAGE_UP)         # 網頁捲動到上一頁\n",
    "time.sleep(3)\n",
    "ele.send_keys(Keys.HOME)            # 網頁捲動到最上端"
   ]
  },
  {
   "cell_type": "markdown",
   "metadata": {},
   "source": [
    "## 14. Python processes the browser\n",
    "屬性:\n",
    "1. forward(): 往前一頁\n",
    "2. back(): 往回一頁\n",
    "3. refresh(): 更新網頁\n",
    "4. quit(): 關閉網頁\n",
    "\n",
    "### Example - 更新網頁與關閉網頁應用\n",
    "\n"
   ]
  },
  {
   "cell_type": "code",
   "execution_count": 15,
   "metadata": {},
   "outputs": [
    {
     "name": "stdout",
     "output_type": "stream",
     "text": [
      "Refresh Already\n"
     ]
    }
   ],
   "source": [
    "from selenium import webdriver \n",
    "from selenium.webdriver.common.keys import Keys\n",
    "import time\n",
    "\n",
    "# Driver檔案路徑 = driverPath\n",
    "driverPath = 'D:\\geckodriver\\chromedriver.exe'\n",
    "# 將參數 driverpath, options 當作參數設在 webdriver.Chrome 內\n",
    "browser = webdriver.Chrome(executable_path = driverPath)\n",
    "\n",
    "# 目標網頁的 url\n",
    "url = 'https://www.mcut.edu.tw/'\n",
    "# 利用 get() method 獲得/下載網頁資訊\n",
    "browser.get(url)\n",
    "\n",
    "# 程式暫停3秒\n",
    "time.sleep(3)\n",
    "# 網頁刷新\n",
    "browser.refresh()\n",
    "print('Refresh Already')\n",
    "time.sleep(3)\n",
    "# 網頁關閉\n",
    "browser.quit()"
   ]
  }
 ],
 "metadata": {
  "kernelspec": {
   "display_name": "Python 3",
   "language": "python",
   "name": "python3"
  },
  "language_info": {
   "codemirror_mode": {
    "name": "ipython",
    "version": 3
   },
   "file_extension": ".py",
   "mimetype": "text/x-python",
   "name": "python",
   "nbconvert_exporter": "python",
   "pygments_lexer": "ipython3",
   "version": "3.7.6"
  }
 },
 "nbformat": 4,
 "nbformat_minor": 4
}
