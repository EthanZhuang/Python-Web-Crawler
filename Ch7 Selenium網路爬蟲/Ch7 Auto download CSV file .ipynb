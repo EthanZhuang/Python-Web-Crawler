{
 "cells": [
  {
   "cell_type": "markdown",
   "metadata": {},
   "source": [
    "Auto download CSV file \n",
    "===\n",
    "\n",
    "\n",
    "### Resources\n",
    "\n",
    "**Selenium - HTML元素**<br>\n",
    "[尋找 HTML 元素](https://chercher.tech/python/webelement-locator)\n",
    "\n",
    "**Set up the Path when downloading the file**<br>\n",
    "[Determined the path when downloading the file - (Stackoverflow)](https://stackoverflow.com/questions/56507782/how-to-determine-a-path-when-downloading-file-with-python-ftp)\n",
    "\n",
    "**Selenium get the current url**<br>\n",
    "[Get current url in browser with selenium - (Stackoverflow)](https://stackoverflow.com/questions/49579558/trouble-getting-the-current-url-on-selenium)"
   ]
  },
  {
   "cell_type": "markdown",
   "metadata": {},
   "source": [
    "### Example: 下載環保署的\"空氣指標\"JSON檔案，並抓取台北市所有測站名、測站ID、空氣品質指標\n",
    "\n",
    "### Steps:<br>\n",
    "1. 先到環保署網站，進入並點擊JSON按鈕，進入JSON資料網頁\n",
    "2. 獲取資料網頁，並下載檔案\n",
    "3. 建立新資料夾，將下載檔案存入\n",
    "4. 做數據清洗\n",
    "\n",
    "### Problem\n",
    "**注意**<br>\n",
    "\n",
    "1. browser沒有成功抓取json資料的url (Unsolved)\n",
    "```python\n",
    "# 是*.current_url，不是 *.current_url()\n",
    "json_url = browser.current_url\n",
    "```\n"
   ]
  },
  {
   "cell_type": "code",
   "execution_count": 11,
   "metadata": {},
   "outputs": [
    {
     "name": "stdout",
     "output_type": "stream",
     "text": [
      "http://opendata.epa.gov.tw/webapi/Data/REWIQA/?$orderby=SiteName&$skip=0&$top=1000&format=json\n",
      "Retireve Url Successful...\n",
      "Download File Successful\n",
      "\n",
      "站台ID =  11\tPM2.5值 =  9\t站台名稱 = 士林\n",
      "站台ID =  16\tPM2.5值 = 13\t站台名稱 = 大同\n",
      "站台ID =  12\tPM2.5值 =  8\t站台名稱 = 中山\n",
      "站台ID =  14\tPM2.5值 =  9\t站台名稱 = 古亭\n",
      "站台ID =  15\tPM2.5值 =  7\t站台名稱 = 松山\n",
      "站台ID =  64\tPM2.5值 = 10\t站台名稱 = 陽明\n",
      "站台ID =  13\tPM2.5值 = 10\t站台名稱 = 萬華\n"
     ]
    }
   ],
   "source": [
    "from selenium import webdriver\n",
    "from selenium.webdriver.common.keys import Keys\n",
    "import getpass\n",
    "import time\n",
    "import json\n",
    "import requests\n",
    "\n",
    "\n",
    "# Driver檔案路徑 = driverPath\n",
    "driverPath = 'D:\\geckodriver\\chromedriver.exe'\n",
    "# 將參數 driverpath, options 當作參數設在 webdriver.Chrome 內\n",
    "browser = webdriver.Chrome(executable_path = driverPath)\n",
    "\n",
    "# 目標網頁的 url\n",
    "url = 'https://opendata.epa.gov.tw/data/contents/aqi/'\n",
    "# 利用 get() method 獲得/下載網頁資訊\n",
    "browser.get(url)\n",
    "\n",
    "try:\n",
    "    n1 = browser.find_element_by_xpath(\"//p[@class = 'color_a']/a[@target = '_blank']\")\n",
    "    n1.click()\n",
    "    time.sleep(1)\n",
    "    json_url = n1.get_attribute('href')\n",
    "    \n",
    "    # 取得JSON檔案的current url\n",
    "#     json_url = browser.current_url\n",
    "\n",
    "    print(json_url)\n",
    "    print('Retireve Url Successful...')\n",
    "except:\n",
    "    print('Retrieve Url Failed...')\n",
    "    \n",
    "##建立json檔案，並下載、儲存檔案==============================================================  \n",
    "# 使用 header 來偽裝瀏覽器\n",
    "headers = { 'User-Agent':'Mozilla/5.0 (Windows NT 6.1; WOW64)\\\n",
    "            AppleWebKit/537.36 (KHTML, like Gecko) Chrome/45.0.2454.101\\\n",
    "            Safari/537.36', }\n",
    "\n",
    "try:\n",
    "    # 前往網址下載JSON資料\n",
    "    aqijsons = requests.get(json_url, headers = headers)\n",
    "    print('Download File Successful\\n')\n",
    "except Exception as e:\n",
    "    print('Download File Failed')\n",
    "\n",
    "# 建立json檔案\n",
    "fn = 'aqi.json'\n",
    "with open(fn, 'w') as f:\n",
    "    json.dump(aqijsons.json(), f)\n",
    "\n",
    "## 開啟檔案、數據清洗==============================================================    \n",
    "with open(fn) as fnObj:\n",
    "    Dataset = json.load(fnObj)\n",
    "\n",
    "for data in Dataset:\n",
    "    if data['County'] == '臺北市':\n",
    "        sitename = data['SiteName']\n",
    "        siteid = data['SiteId']\n",
    "        pm25 = data['PM2.5']\n",
    "        print('站台ID = %3s\\tPM2.5值 = %2s\\t站台名稱 = %s' % \\\n",
    "             (siteid, pm25, sitename))    "
   ]
  },
  {
   "cell_type": "code",
   "execution_count": 2,
   "metadata": {},
   "outputs": [],
   "source": [
    "import os\n",
    "path = \"D:\\MIT Python\\Python practice\\Web_Crawler\\ch7\"    \n",
    "os.chdir(path)"
   ]
  }
 ],
 "metadata": {
  "kernelspec": {
   "display_name": "Python 3",
   "language": "python",
   "name": "python3"
  },
  "language_info": {
   "codemirror_mode": {
    "name": "ipython",
    "version": 3
   },
   "file_extension": ".py",
   "mimetype": "text/x-python",
   "name": "python",
   "nbconvert_exporter": "python",
   "pygments_lexer": "ipython3",
   "version": "3.7.6"
  }
 },
 "nbformat": 4,
 "nbformat_minor": 4
}
