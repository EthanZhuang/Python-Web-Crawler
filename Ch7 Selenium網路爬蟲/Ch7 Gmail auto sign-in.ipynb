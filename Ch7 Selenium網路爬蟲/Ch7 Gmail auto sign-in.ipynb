{
 "cells": [
  {
   "cell_type": "markdown",
   "metadata": {},
   "source": [
    "Automatically signing in the google gmail (Failed)\n",
    "===\n",
    "\n",
    "\n",
    "### Resources\n",
    "\n",
    "**Selenium - HTML元素**\n",
    "\n",
    "[尋找 HTML 元素](https://chercher.tech/python/webelement-locator)\n",
    "\n",
    "### Problem "
   ]
  },
  {
   "cell_type": "markdown",
   "metadata": {},
   "source": [
    "### STEPs: (It got problems)\n",
    "1. Open your google website, and then \"inspect\" the sign-in buttom\n",
    "2. Check out the ```Account``` / ```Password``` to search for the tag_name or class within the tag\n",
    "3. Automatically Signing in your account and password \n",
    "\n",
    "Plan B:"
   ]
  },
  {
   "cell_type": "markdown",
   "metadata": {},
   "source": [
    "## Method 1: selenium"
   ]
  },
  {
   "cell_type": "code",
   "execution_count": 3,
   "metadata": {},
   "outputs": [
    {
     "name": "stdout",
     "output_type": "stream",
     "text": [
      "Gmail account: ········\n",
      "Gmail password: ········\n",
      "Login Failed...\n"
     ]
    }
   ],
   "source": [
    "from selenium import webdriver\n",
    "from selenium.webdriver.common.keys import Keys\n",
    "from urllib import requests\n",
    "import getpass\n",
    "import time\n",
    "\n",
    "# print('Plz sign in your gmail account: ')\n",
    "# email, password = map(str, input().split())\n",
    "\n",
    "email = getpass.getpass('Gmail account: ')\n",
    "password = getpass.getpass('Gmail password: ')\n",
    "\n",
    "# Driver檔案路徑 = driverPath\n",
    "driverPath = 'D:\\geckodriver\\chromedriver.exe'\n",
    "# 將參數 driverpath, options 當作參數設在 webdriver.Chrome 內\n",
    "browser = webdriver.Chrome(executable_path = driverPath)\n",
    "\n",
    "# 目標網頁的 url\n",
    "url = 'https://www.google.com/'\n",
    "# 利用 get() method 獲得/下載網頁資訊\n",
    "browser.get(url)\n",
    "\n",
    "try:\n",
    "    # 找到登入鈕 class_name = 'gb_7c'，然後按下去\n",
    "    browser.find_element_by_class_name('gb_7c').click()\n",
    "    # 找帳號欄位，並輸入帳號ˇ\n",
    "    browser.find_element_by_xpath(\"//div[@class = 'Xb9hP']/input[@id = 'identifierId']\").send_keys(email)\n",
    "    time.sleep(3)\n",
    "    # 找\"繼續\"按鈕，並按下\n",
    "    browser.find_element_by_xpath(\"//div[@class = 'VfPpkd-RLmnJb']\").click()\n",
    "    time.sleep(3)\n",
    "    # 找密碼欄位，並輸入密碼\n",
    "    browser.find_element_by_xpath(\"//div[@class = 'password']/input[@name = 'password']\").send_keys(password)\n",
    "    time.sleep(3)\n",
    "    print('Login Successful...')\n",
    "    \n",
    "except:\n",
    "    print('Login Failed...')"
   ]
  },
  {
   "cell_type": "markdown",
   "metadata": {},
   "source": [
    "## Method 2: (Failed as well)"
   ]
  },
  {
   "cell_type": "code",
   "execution_count": null,
   "metadata": {},
   "outputs": [],
   "source": [
    "from selenium import webdriver \n",
    "from webdriver_manager.chrome import ChromeDriverManager \n",
    "\n",
    "print('Enter the gmailid and password') \n",
    "gmailId, passWord = map(str, input().split()) \n",
    "try: \n",
    "    driver = webdriver.Chrome(ChromeDriverManager().install()) \n",
    "    driver.get(r'https://accounts.google.com/signin/v2/identifier?continue='+ \n",
    "    'https%3A%2F%2Fmail.google.com%2Fmail%2F&service=mail&sacu=1&rip=1' + \n",
    "    '&flowName=GlifWebSignIn&flowEntry = ServiceLogin') \n",
    "    driver.implicitly_wait(15) \n",
    "    \n",
    "    loginBox = driver.find_element_by_xpath('//*[@id =\"identifierId\"]') \n",
    "    loginBox.send_keys(gmailId) \n",
    "\n",
    "    nextButton = driver.find_elements_by_xpath('//*[@id =\"identifierNext\"]') \n",
    "    nextButton[0].click() \n",
    "\n",
    "    passWordBox = driver.find_element_by_xpath( \n",
    "        '//*[@id =\"password\"]/div[1]/div / div[1]/input') \n",
    "    passWordBox.send_keys(passWord) \n",
    "\n",
    "    nextButton = driver.find_elements_by_xpath('//*[@id =\"passwordNext\"]') \n",
    "    nextButton[0].click() \n",
    "\n",
    "    print('Login Successful...!!') \n",
    "except: \n",
    "    print('Login Failed') \n"
   ]
  },
  {
   "cell_type": "markdown",
   "metadata": {},
   "source": [
    "\n",
    "https://accounts.google.com/signin/v2/identifier?hl=zh-TW&passive=true&continue=https%3A%2F%2Fwww.google.com%2F&ec=GAZAAQ&flowName=GlifWebSignIn&flowEntry=ServiceLogin"
   ]
  },
  {
   "cell_type": "markdown",
   "metadata": {},
   "source": [
    "## Method 3: Request + selenium + urllib"
   ]
  },
  {
   "cell_type": "code",
   "execution_count": 8,
   "metadata": {},
   "outputs": [
    {
     "name": "stdout",
     "output_type": "stream",
     "text": [
      "Login Failed...\n"
     ]
    }
   ],
   "source": [
    "from selenium import webdriver\n",
    "from selenium.webdriver.common.keys import Keys\n",
    "from urllib import request\n",
    "# import requests\n",
    "import getpass\n",
    "import time\n",
    "\n",
    "# print('Plz sign in your gmail account: ')\n",
    "# email, password = map(str, input().split())\n",
    "\n",
    "# email = getpass.getpass('Gmail account: ')\n",
    "# password = getpass.getpass('Gmail password: ')\n",
    "\n",
    "\n",
    "# 使用 header 來偽裝瀏覽器\n",
    "headers = { 'User-Agent':'Mozilla/5.0 (Windows NT 6.1; WOW64)\\\n",
    "            AppleWebKit/537.36 (KHTML, like Gecko) Chrome/45.0.2454.101\\\n",
    "            Safari/537.36', }\n",
    "\n",
    "broswer = requests.get('https://www.google.com/', headers = headers)\n",
    "\n",
    "# # Driver檔案路徑 = driverPath\n",
    "# driverPath = 'D:\\geckodriver\\chromedriver.exe'\n",
    "# # 將參數 driverpath, options 當作參數設在 webdriver.Chrome 內\n",
    "# browser = webdriver.Chrome(executable_path = driverPath)\n",
    "\n",
    "# # 目標網頁的 url\n",
    "# url = 'https://www.google.com/'\n",
    "# # 利用 get() method 獲得/下載網頁資訊\n",
    "# browser.get(url)\n",
    "\n",
    "try:\n",
    "    # 找到 class_name = 'gb_7c'，然後按下去\n",
    "    browser.find_element_by_class_name('gb_7c').click()\n",
    "    browser.find_element_by_xpath(\"//div[@class = 'Xb9hP']/input[@id = 'identifierId']\").send_keys(email)\n",
    "    time.sleep(3)\n",
    "    browser.find_element_by_xpath(\"//div[@class = 'VfPpkd-RLmnJb']\").click()\n",
    "    time.sleep(3)\n",
    "    browser.find_element_by_xpath(\"//div[@class = 'password']/input[@name = 'password']\").send_keys(password)\n",
    "    time.sleep(3)\n",
    "    print('Login Successful...')\n",
    "    \n",
    "except:\n",
    "    print('Login Failed...')"
   ]
  },
  {
   "cell_type": "code",
   "execution_count": null,
   "metadata": {},
   "outputs": [],
   "source": []
  }
 ],
 "metadata": {
  "kernelspec": {
   "display_name": "Python 3",
   "language": "python",
   "name": "python3"
  },
  "language_info": {
   "codemirror_mode": {
    "name": "ipython",
    "version": 3
   },
   "file_extension": ".py",
   "mimetype": "text/x-python",
   "name": "python",
   "nbconvert_exporter": "python",
   "pygments_lexer": "ipython3",
   "version": "3.7.6"
  }
 },
 "nbformat": 4,
 "nbformat_minor": 4
}
